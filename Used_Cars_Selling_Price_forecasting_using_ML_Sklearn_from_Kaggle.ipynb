{
  "cells": [
    {
      "cell_type": "markdown",
      "metadata": {
        "id": "CoQEQgwx5_Uj"
      },
      "source": [
        "**[Dataset Used Car Auction Prices from Kaggle](https://www.kaggle.com/datasets/tunguz/used-car-auction-prices)**\n",
        "\n",
        "The dataset contains historical car auction sale prices taken from external internet sources. The data was collected in 2015 and has not been updated anymore."
      ]
    },
    {
      "cell_type": "markdown",
      "metadata": {
        "id": "A5yg7Awy_aqp"
      },
      "source": [
        "In this work, an analysis of sales data for used cars as of 2015 will be conducted. Models will be trained to predict the selling price based on the available characteristics."
      ]
    },
    {
      "cell_type": "markdown",
      "metadata": {
        "id": "Y2i7hVaVAeRE"
      },
      "source": [
        "# Exploratory Data Analysis (EDA) and Data Preparation for Used Car Sales Analysis"
      ]
    },
    {
      "cell_type": "markdown",
      "source": [
        "In this notebook, I am going to conduct an exploratory analysis of sales data for used cars. I will start by displaying a few rows to familiarize myself with the data representation"
      ],
      "metadata": {
        "id": "8Tp2Ds-d1DK1"
      }
    },
    {
      "cell_type": "code",
      "execution_count": null,
      "metadata": {
        "id": "rkz59BOr4n4C"
      },
      "outputs": [],
      "source": [
        "import pandas as pd\n",
        "import numpy as np\n",
        "import seaborn as sns\n",
        "import matplotlib.pyplot as plt\n",
        "%matplotlib inline\n",
        "import math\n",
        "pd.set_option('display.max_columns',100)\n",
        "pd.set_option('display.max_rows',100)"
      ]
    },
    {
      "cell_type": "code",
      "execution_count": null,
      "metadata": {
        "colab": {
          "base_uri": "https://localhost:8080/",
          "height": 704
        },
        "id": "ODQSrTD07Fox",
        "outputId": "cf0ee8ef-637a-48e5-a136-64f9468e6844"
      },
      "outputs": [
        {
          "output_type": "execute_result",
          "data": {
            "text/plain": [
              "        year       make   model                                 trim     body  \\\n",
              "478769  2010     Toyota    RAV4                              Limited      suv   \n",
              "317230  2013  Chevrolet  Camaro                                   LS    Coupe   \n",
              "180877  2013     Toyota  Sienna  LE 7-Passenger Mobility Auto Access  Minivan   \n",
              "110999  2012  Chevrolet  Impala                                  LTZ    Sedan   \n",
              "35117   2014  Chevrolet   Cruze                                   LS    Sedan   \n",
              "\n",
              "       transmission                vin state  condition  odometer   color  \\\n",
              "478769    automatic  jtmdf4dv0a5028382    mo        4.3   50166.0  silver   \n",
              "317230       manual  2g1fe1e35d9205290    mi        4.9    7281.0    blue   \n",
              "180877    automatic  5tdkk3dc6ds357615    ca        3.1   42520.0    gray   \n",
              "110999    automatic  2g1wc5e38c1281466    ca        2.5   65687.0    gold   \n",
              "35117     automatic  1g1pa5sh2e7194436    in        4.1    9382.0   black   \n",
              "\n",
              "       interior                                        seller    mmr  \\\n",
              "478769     gray                           tamaroff leasing co  16250   \n",
              "317230    black  remarketing by ge/michigan schools & govt cu  16700   \n",
              "180877     gray                          avis rac/san leandro  18500   \n",
              "110999    black                         the hertz corporation   9650   \n",
              "35117      gray                                  gm financial  11950   \n",
              "\n",
              "        sellingprice                                 saledate  \n",
              "478769         17000  Tue Jun 02 2015 04:00:00 GMT-0700 (PDT)  \n",
              "317230         18000  Thu Feb 19 2015 01:30:00 GMT-0800 (PST)  \n",
              "180877         20200  Wed Jan 21 2015 04:30:00 GMT-0800 (PST)  \n",
              "110999          9500  Wed Feb 11 2015 04:30:00 GMT-0800 (PST)  \n",
              "35117          11300  Thu Dec 18 2014 10:10:00 GMT-0800 (PST)  "
            ],
            "text/html": [
              "\n",
              "  <div id=\"df-81dc2384-48e7-4ed7-b355-2a6d7a5afbf6\">\n",
              "    <div class=\"colab-df-container\">\n",
              "      <div>\n",
              "<style scoped>\n",
              "    .dataframe tbody tr th:only-of-type {\n",
              "        vertical-align: middle;\n",
              "    }\n",
              "\n",
              "    .dataframe tbody tr th {\n",
              "        vertical-align: top;\n",
              "    }\n",
              "\n",
              "    .dataframe thead th {\n",
              "        text-align: right;\n",
              "    }\n",
              "</style>\n",
              "<table border=\"1\" class=\"dataframe\">\n",
              "  <thead>\n",
              "    <tr style=\"text-align: right;\">\n",
              "      <th></th>\n",
              "      <th>year</th>\n",
              "      <th>make</th>\n",
              "      <th>model</th>\n",
              "      <th>trim</th>\n",
              "      <th>body</th>\n",
              "      <th>transmission</th>\n",
              "      <th>vin</th>\n",
              "      <th>state</th>\n",
              "      <th>condition</th>\n",
              "      <th>odometer</th>\n",
              "      <th>color</th>\n",
              "      <th>interior</th>\n",
              "      <th>seller</th>\n",
              "      <th>mmr</th>\n",
              "      <th>sellingprice</th>\n",
              "      <th>saledate</th>\n",
              "    </tr>\n",
              "  </thead>\n",
              "  <tbody>\n",
              "    <tr>\n",
              "      <th>478769</th>\n",
              "      <td>2010</td>\n",
              "      <td>Toyota</td>\n",
              "      <td>RAV4</td>\n",
              "      <td>Limited</td>\n",
              "      <td>suv</td>\n",
              "      <td>automatic</td>\n",
              "      <td>jtmdf4dv0a5028382</td>\n",
              "      <td>mo</td>\n",
              "      <td>4.3</td>\n",
              "      <td>50166.0</td>\n",
              "      <td>silver</td>\n",
              "      <td>gray</td>\n",
              "      <td>tamaroff leasing co</td>\n",
              "      <td>16250</td>\n",
              "      <td>17000</td>\n",
              "      <td>Tue Jun 02 2015 04:00:00 GMT-0700 (PDT)</td>\n",
              "    </tr>\n",
              "    <tr>\n",
              "      <th>317230</th>\n",
              "      <td>2013</td>\n",
              "      <td>Chevrolet</td>\n",
              "      <td>Camaro</td>\n",
              "      <td>LS</td>\n",
              "      <td>Coupe</td>\n",
              "      <td>manual</td>\n",
              "      <td>2g1fe1e35d9205290</td>\n",
              "      <td>mi</td>\n",
              "      <td>4.9</td>\n",
              "      <td>7281.0</td>\n",
              "      <td>blue</td>\n",
              "      <td>black</td>\n",
              "      <td>remarketing by ge/michigan schools &amp; govt cu</td>\n",
              "      <td>16700</td>\n",
              "      <td>18000</td>\n",
              "      <td>Thu Feb 19 2015 01:30:00 GMT-0800 (PST)</td>\n",
              "    </tr>\n",
              "    <tr>\n",
              "      <th>180877</th>\n",
              "      <td>2013</td>\n",
              "      <td>Toyota</td>\n",
              "      <td>Sienna</td>\n",
              "      <td>LE 7-Passenger Mobility Auto Access</td>\n",
              "      <td>Minivan</td>\n",
              "      <td>automatic</td>\n",
              "      <td>5tdkk3dc6ds357615</td>\n",
              "      <td>ca</td>\n",
              "      <td>3.1</td>\n",
              "      <td>42520.0</td>\n",
              "      <td>gray</td>\n",
              "      <td>gray</td>\n",
              "      <td>avis rac/san leandro</td>\n",
              "      <td>18500</td>\n",
              "      <td>20200</td>\n",
              "      <td>Wed Jan 21 2015 04:30:00 GMT-0800 (PST)</td>\n",
              "    </tr>\n",
              "    <tr>\n",
              "      <th>110999</th>\n",
              "      <td>2012</td>\n",
              "      <td>Chevrolet</td>\n",
              "      <td>Impala</td>\n",
              "      <td>LTZ</td>\n",
              "      <td>Sedan</td>\n",
              "      <td>automatic</td>\n",
              "      <td>2g1wc5e38c1281466</td>\n",
              "      <td>ca</td>\n",
              "      <td>2.5</td>\n",
              "      <td>65687.0</td>\n",
              "      <td>gold</td>\n",
              "      <td>black</td>\n",
              "      <td>the hertz corporation</td>\n",
              "      <td>9650</td>\n",
              "      <td>9500</td>\n",
              "      <td>Wed Feb 11 2015 04:30:00 GMT-0800 (PST)</td>\n",
              "    </tr>\n",
              "    <tr>\n",
              "      <th>35117</th>\n",
              "      <td>2014</td>\n",
              "      <td>Chevrolet</td>\n",
              "      <td>Cruze</td>\n",
              "      <td>LS</td>\n",
              "      <td>Sedan</td>\n",
              "      <td>automatic</td>\n",
              "      <td>1g1pa5sh2e7194436</td>\n",
              "      <td>in</td>\n",
              "      <td>4.1</td>\n",
              "      <td>9382.0</td>\n",
              "      <td>black</td>\n",
              "      <td>gray</td>\n",
              "      <td>gm financial</td>\n",
              "      <td>11950</td>\n",
              "      <td>11300</td>\n",
              "      <td>Thu Dec 18 2014 10:10:00 GMT-0800 (PST)</td>\n",
              "    </tr>\n",
              "  </tbody>\n",
              "</table>\n",
              "</div>\n",
              "      <button class=\"colab-df-convert\" onclick=\"convertToInteractive('df-81dc2384-48e7-4ed7-b355-2a6d7a5afbf6')\"\n",
              "              title=\"Convert this dataframe to an interactive table.\"\n",
              "              style=\"display:none;\">\n",
              "        \n",
              "  <svg xmlns=\"http://www.w3.org/2000/svg\" height=\"24px\"viewBox=\"0 0 24 24\"\n",
              "       width=\"24px\">\n",
              "    <path d=\"M0 0h24v24H0V0z\" fill=\"none\"/>\n",
              "    <path d=\"M18.56 5.44l.94 2.06.94-2.06 2.06-.94-2.06-.94-.94-2.06-.94 2.06-2.06.94zm-11 1L8.5 8.5l.94-2.06 2.06-.94-2.06-.94L8.5 2.5l-.94 2.06-2.06.94zm10 10l.94 2.06.94-2.06 2.06-.94-2.06-.94-.94-2.06-.94 2.06-2.06.94z\"/><path d=\"M17.41 7.96l-1.37-1.37c-.4-.4-.92-.59-1.43-.59-.52 0-1.04.2-1.43.59L10.3 9.45l-7.72 7.72c-.78.78-.78 2.05 0 2.83L4 21.41c.39.39.9.59 1.41.59.51 0 1.02-.2 1.41-.59l7.78-7.78 2.81-2.81c.8-.78.8-2.07 0-2.86zM5.41 20L4 18.59l7.72-7.72 1.47 1.35L5.41 20z\"/>\n",
              "  </svg>\n",
              "      </button>\n",
              "      \n",
              "  <style>\n",
              "    .colab-df-container {\n",
              "      display:flex;\n",
              "      flex-wrap:wrap;\n",
              "      gap: 12px;\n",
              "    }\n",
              "\n",
              "    .colab-df-convert {\n",
              "      background-color: #E8F0FE;\n",
              "      border: none;\n",
              "      border-radius: 50%;\n",
              "      cursor: pointer;\n",
              "      display: none;\n",
              "      fill: #1967D2;\n",
              "      height: 32px;\n",
              "      padding: 0 0 0 0;\n",
              "      width: 32px;\n",
              "    }\n",
              "\n",
              "    .colab-df-convert:hover {\n",
              "      background-color: #E2EBFA;\n",
              "      box-shadow: 0px 1px 2px rgba(60, 64, 67, 0.3), 0px 1px 3px 1px rgba(60, 64, 67, 0.15);\n",
              "      fill: #174EA6;\n",
              "    }\n",
              "\n",
              "    [theme=dark] .colab-df-convert {\n",
              "      background-color: #3B4455;\n",
              "      fill: #D2E3FC;\n",
              "    }\n",
              "\n",
              "    [theme=dark] .colab-df-convert:hover {\n",
              "      background-color: #434B5C;\n",
              "      box-shadow: 0px 1px 3px 1px rgba(0, 0, 0, 0.15);\n",
              "      filter: drop-shadow(0px 1px 2px rgba(0, 0, 0, 0.3));\n",
              "      fill: #FFFFFF;\n",
              "    }\n",
              "  </style>\n",
              "\n",
              "      <script>\n",
              "        const buttonEl =\n",
              "          document.querySelector('#df-81dc2384-48e7-4ed7-b355-2a6d7a5afbf6 button.colab-df-convert');\n",
              "        buttonEl.style.display =\n",
              "          google.colab.kernel.accessAllowed ? 'block' : 'none';\n",
              "\n",
              "        async function convertToInteractive(key) {\n",
              "          const element = document.querySelector('#df-81dc2384-48e7-4ed7-b355-2a6d7a5afbf6');\n",
              "          const dataTable =\n",
              "            await google.colab.kernel.invokeFunction('convertToInteractive',\n",
              "                                                     [key], {});\n",
              "          if (!dataTable) return;\n",
              "\n",
              "          const docLinkHtml = 'Like what you see? Visit the ' +\n",
              "            '<a target=\"_blank\" href=https://colab.research.google.com/notebooks/data_table.ipynb>data table notebook</a>'\n",
              "            + ' to learn more about interactive tables.';\n",
              "          element.innerHTML = '';\n",
              "          dataTable['output_type'] = 'display_data';\n",
              "          await google.colab.output.renderOutput(dataTable, element);\n",
              "          const docLink = document.createElement('div');\n",
              "          docLink.innerHTML = docLinkHtml;\n",
              "          element.appendChild(docLink);\n",
              "        }\n",
              "      </script>\n",
              "    </div>\n",
              "  </div>\n",
              "  "
            ]
          },
          "metadata": {},
          "execution_count": 5
        }
      ],
      "source": [
        "df.sample(5)"
      ]
    },
    {
      "cell_type": "markdown",
      "source": [
        "I am going to proceed to examine the data types"
      ],
      "metadata": {
        "id": "rv1S-dRB073w"
      }
    },
    {
      "cell_type": "code",
      "execution_count": null,
      "metadata": {
        "colab": {
          "base_uri": "https://localhost:8080/"
        },
        "id": "ifxqMkJWBWuK",
        "outputId": "6aea9763-ad6c-49a0-ea5f-28b4f87f7653"
      },
      "outputs": [
        {
          "output_type": "stream",
          "name": "stdout",
          "text": [
            "<class 'pandas.core.frame.DataFrame'>\n",
            "RangeIndex: 558811 entries, 0 to 558810\n",
            "Data columns (total 16 columns):\n",
            " #   Column        Non-Null Count   Dtype  \n",
            "---  ------        --------------   -----  \n",
            " 0   year          558811 non-null  int64  \n",
            " 1   make          548510 non-null  object \n",
            " 2   model         548412 non-null  object \n",
            " 3   trim          548160 non-null  object \n",
            " 4   body          545616 non-null  object \n",
            " 5   transmission  493458 non-null  object \n",
            " 6   vin           558811 non-null  object \n",
            " 7   state         558811 non-null  object \n",
            " 8   condition     547017 non-null  float64\n",
            " 9   odometer      558717 non-null  float64\n",
            " 10  color         558062 non-null  object \n",
            " 11  interior      558062 non-null  object \n",
            " 12  seller        558811 non-null  object \n",
            " 13  mmr           558811 non-null  int64  \n",
            " 14  sellingprice  558811 non-null  int64  \n",
            " 15  saledate      558811 non-null  object \n",
            "dtypes: float64(2), int64(3), object(11)\n",
            "memory usage: 68.2+ MB\n"
          ]
        }
      ],
      "source": [
        "df.info()"
      ]
    },
    {
      "cell_type": "markdown",
      "metadata": {
        "id": "MfdHejepBjch"
      },
      "source": [
        "* year - the year of the car's manufacture\n",
        "* make - the car's brand\n",
        "* model - the car's model\n",
        "* trim - the car's trim level\n",
        "* body - the car's body type\n",
        "* transmission - the car's transmission type\n",
        "* vin - the car's identification number\n",
        "* state - the state where the auction took place\n",
        "* condition - the condition of the cars at the time of the auction\n",
        "* odometer -  the distance traveled by the car since its manufacture\n",
        "* color - the car's exterior color\n",
        "* interior - the car's interior color\n",
        "* seller - the seller of the car, including dealerships\n",
        "* mmr - the market evaluation price of the cars\n",
        "* sellingprice - the price at which the car was sold at auction\n",
        "* saledate - the date of the car's sale\n"
      ]
    },
    {
      "cell_type": "code",
      "execution_count": null,
      "metadata": {
        "colab": {
          "base_uri": "https://localhost:8080/"
        },
        "id": "xl_tP0sxDWhs",
        "outputId": "9d5b01a1-47b2-4cf2-c5ea-e4160f22071a"
      },
      "outputs": [
        {
          "output_type": "execute_result",
          "data": {
            "text/plain": [
              "year                34\n",
              "make                96\n",
              "model              973\n",
              "trim              1975\n",
              "body                86\n",
              "transmission         2\n",
              "vin             550296\n",
              "state               38\n",
              "condition           41\n",
              "odometer        172277\n",
              "color               20\n",
              "interior            17\n",
              "seller           14264\n",
              "mmr               1101\n",
              "sellingprice      1887\n",
              "saledate          3745\n",
              "dtype: int64"
            ]
          },
          "metadata": {},
          "execution_count": 7
        }
      ],
      "source": [
        "df.nunique(axis=0)"
      ]
    },
    {
      "cell_type": "code",
      "execution_count": null,
      "metadata": {
        "id": "5sOgGG9KKFZZ"
      },
      "outputs": [],
      "source": [
        "#removing unnecessary columns\n",
        "\n",
        "skip_labels = ['make', 'model', 'trim', 'body', 'seller', 'year']\n",
        "df= df.drop(labels = skip_labels, axis=1)\n"
      ]
    },
    {
      "cell_type": "code",
      "execution_count": null,
      "metadata": {
        "colab": {
          "base_uri": "https://localhost:8080/"
        },
        "id": "FPsyHbN3L_qy",
        "outputId": "04dec440-9078-459e-e494-d3c2c1a5aa6f"
      },
      "outputs": [
        {
          "output_type": "execute_result",
          "data": {
            "text/plain": [
              "transmission    65353\n",
              "vin                 0\n",
              "state               0\n",
              "condition       11794\n",
              "odometer           94\n",
              "color             749\n",
              "interior          749\n",
              "mmr                 0\n",
              "sellingprice        0\n",
              "saledate            0\n",
              "dtype: int64"
            ]
          },
          "metadata": {},
          "execution_count": 9
        }
      ],
      "source": [
        "#checking for null values\n",
        "df.isnull().sum()"
      ]
    },
    {
      "cell_type": "code",
      "execution_count": null,
      "metadata": {
        "colab": {
          "base_uri": "https://localhost:8080/",
          "height": 424
        },
        "id": "5Twl9h12P-Uj",
        "outputId": "4649bb89-fe8f-477b-d93d-222aa8ca0d13"
      },
      "outputs": [
        {
          "output_type": "execute_result",
          "data": {
            "text/plain": [
              "       transmission                vin state  condition  odometer  color  \\\n",
              "0         automatic  5xyktca69fg566472    ca        5.0   16639.0  white   \n",
              "1         automatic  5xyktca69fg561319    ca        5.0    9393.0  white   \n",
              "2         automatic  wba3c1c51ek116351    ca        4.5    1331.0   gray   \n",
              "3         automatic  yv1612tb4f1310987    ca        4.1   14282.0  white   \n",
              "4         automatic  wba6b2c57ed129731    ca        4.3    2641.0   gray   \n",
              "...             ...                ...   ...        ...       ...    ...   \n",
              "558805    automatic  wbafr1c53bc744672    fl        3.9   66403.0  white   \n",
              "558807    automatic  3c6td5et6cg112407    wa        5.0   54393.0  white   \n",
              "558808    automatic  5uxzw0c58cl668465    ca        4.8   50561.0  black   \n",
              "558809    automatic  1n4al3ap0fc216050    ga        3.8   16658.0  white   \n",
              "558810    automatic  1ftfw1et2eke87277    ca        3.4   15008.0   gray   \n",
              "\n",
              "       interior    mmr  sellingprice                                 saledate  \n",
              "0         black  20500         21500  Tue Dec 16 2014 12:30:00 GMT-0800 (PST)  \n",
              "1         beige  20800         21500  Tue Dec 16 2014 12:30:00 GMT-0800 (PST)  \n",
              "2         black  31900         30000  Thu Jan 15 2015 04:30:00 GMT-0800 (PST)  \n",
              "3         black  27500         27750  Thu Jan 29 2015 04:30:00 GMT-0800 (PST)  \n",
              "4         black  66000         67000  Thu Dec 18 2014 12:30:00 GMT-0800 (PST)  \n",
              "...         ...    ...           ...                                      ...  \n",
              "558805    brown  20300         22800  Tue Jul 07 2015 06:15:00 GMT-0700 (PDT)  \n",
              "558807    black  30200         30800  Wed Jul 08 2015 09:30:00 GMT-0700 (PDT)  \n",
              "558808    black  29800         34000  Wed Jul 08 2015 09:30:00 GMT-0700 (PDT)  \n",
              "558809    black  15100         11100  Thu Jul 09 2015 06:45:00 GMT-0700 (PDT)  \n",
              "558810     gray  29600         26700  Thu May 28 2015 05:30:00 GMT-0700 (PDT)  \n",
              "\n",
              "[482966 rows x 10 columns]"
            ],
            "text/html": [
              "\n",
              "  <div id=\"df-1bf6d17f-bfac-497a-8214-492178a133d2\">\n",
              "    <div class=\"colab-df-container\">\n",
              "      <div>\n",
              "<style scoped>\n",
              "    .dataframe tbody tr th:only-of-type {\n",
              "        vertical-align: middle;\n",
              "    }\n",
              "\n",
              "    .dataframe tbody tr th {\n",
              "        vertical-align: top;\n",
              "    }\n",
              "\n",
              "    .dataframe thead th {\n",
              "        text-align: right;\n",
              "    }\n",
              "</style>\n",
              "<table border=\"1\" class=\"dataframe\">\n",
              "  <thead>\n",
              "    <tr style=\"text-align: right;\">\n",
              "      <th></th>\n",
              "      <th>transmission</th>\n",
              "      <th>vin</th>\n",
              "      <th>state</th>\n",
              "      <th>condition</th>\n",
              "      <th>odometer</th>\n",
              "      <th>color</th>\n",
              "      <th>interior</th>\n",
              "      <th>mmr</th>\n",
              "      <th>sellingprice</th>\n",
              "      <th>saledate</th>\n",
              "    </tr>\n",
              "  </thead>\n",
              "  <tbody>\n",
              "    <tr>\n",
              "      <th>0</th>\n",
              "      <td>automatic</td>\n",
              "      <td>5xyktca69fg566472</td>\n",
              "      <td>ca</td>\n",
              "      <td>5.0</td>\n",
              "      <td>16639.0</td>\n",
              "      <td>white</td>\n",
              "      <td>black</td>\n",
              "      <td>20500</td>\n",
              "      <td>21500</td>\n",
              "      <td>Tue Dec 16 2014 12:30:00 GMT-0800 (PST)</td>\n",
              "    </tr>\n",
              "    <tr>\n",
              "      <th>1</th>\n",
              "      <td>automatic</td>\n",
              "      <td>5xyktca69fg561319</td>\n",
              "      <td>ca</td>\n",
              "      <td>5.0</td>\n",
              "      <td>9393.0</td>\n",
              "      <td>white</td>\n",
              "      <td>beige</td>\n",
              "      <td>20800</td>\n",
              "      <td>21500</td>\n",
              "      <td>Tue Dec 16 2014 12:30:00 GMT-0800 (PST)</td>\n",
              "    </tr>\n",
              "    <tr>\n",
              "      <th>2</th>\n",
              "      <td>automatic</td>\n",
              "      <td>wba3c1c51ek116351</td>\n",
              "      <td>ca</td>\n",
              "      <td>4.5</td>\n",
              "      <td>1331.0</td>\n",
              "      <td>gray</td>\n",
              "      <td>black</td>\n",
              "      <td>31900</td>\n",
              "      <td>30000</td>\n",
              "      <td>Thu Jan 15 2015 04:30:00 GMT-0800 (PST)</td>\n",
              "    </tr>\n",
              "    <tr>\n",
              "      <th>3</th>\n",
              "      <td>automatic</td>\n",
              "      <td>yv1612tb4f1310987</td>\n",
              "      <td>ca</td>\n",
              "      <td>4.1</td>\n",
              "      <td>14282.0</td>\n",
              "      <td>white</td>\n",
              "      <td>black</td>\n",
              "      <td>27500</td>\n",
              "      <td>27750</td>\n",
              "      <td>Thu Jan 29 2015 04:30:00 GMT-0800 (PST)</td>\n",
              "    </tr>\n",
              "    <tr>\n",
              "      <th>4</th>\n",
              "      <td>automatic</td>\n",
              "      <td>wba6b2c57ed129731</td>\n",
              "      <td>ca</td>\n",
              "      <td>4.3</td>\n",
              "      <td>2641.0</td>\n",
              "      <td>gray</td>\n",
              "      <td>black</td>\n",
              "      <td>66000</td>\n",
              "      <td>67000</td>\n",
              "      <td>Thu Dec 18 2014 12:30:00 GMT-0800 (PST)</td>\n",
              "    </tr>\n",
              "    <tr>\n",
              "      <th>...</th>\n",
              "      <td>...</td>\n",
              "      <td>...</td>\n",
              "      <td>...</td>\n",
              "      <td>...</td>\n",
              "      <td>...</td>\n",
              "      <td>...</td>\n",
              "      <td>...</td>\n",
              "      <td>...</td>\n",
              "      <td>...</td>\n",
              "      <td>...</td>\n",
              "    </tr>\n",
              "    <tr>\n",
              "      <th>558805</th>\n",
              "      <td>automatic</td>\n",
              "      <td>wbafr1c53bc744672</td>\n",
              "      <td>fl</td>\n",
              "      <td>3.9</td>\n",
              "      <td>66403.0</td>\n",
              "      <td>white</td>\n",
              "      <td>brown</td>\n",
              "      <td>20300</td>\n",
              "      <td>22800</td>\n",
              "      <td>Tue Jul 07 2015 06:15:00 GMT-0700 (PDT)</td>\n",
              "    </tr>\n",
              "    <tr>\n",
              "      <th>558807</th>\n",
              "      <td>automatic</td>\n",
              "      <td>3c6td5et6cg112407</td>\n",
              "      <td>wa</td>\n",
              "      <td>5.0</td>\n",
              "      <td>54393.0</td>\n",
              "      <td>white</td>\n",
              "      <td>black</td>\n",
              "      <td>30200</td>\n",
              "      <td>30800</td>\n",
              "      <td>Wed Jul 08 2015 09:30:00 GMT-0700 (PDT)</td>\n",
              "    </tr>\n",
              "    <tr>\n",
              "      <th>558808</th>\n",
              "      <td>automatic</td>\n",
              "      <td>5uxzw0c58cl668465</td>\n",
              "      <td>ca</td>\n",
              "      <td>4.8</td>\n",
              "      <td>50561.0</td>\n",
              "      <td>black</td>\n",
              "      <td>black</td>\n",
              "      <td>29800</td>\n",
              "      <td>34000</td>\n",
              "      <td>Wed Jul 08 2015 09:30:00 GMT-0700 (PDT)</td>\n",
              "    </tr>\n",
              "    <tr>\n",
              "      <th>558809</th>\n",
              "      <td>automatic</td>\n",
              "      <td>1n4al3ap0fc216050</td>\n",
              "      <td>ga</td>\n",
              "      <td>3.8</td>\n",
              "      <td>16658.0</td>\n",
              "      <td>white</td>\n",
              "      <td>black</td>\n",
              "      <td>15100</td>\n",
              "      <td>11100</td>\n",
              "      <td>Thu Jul 09 2015 06:45:00 GMT-0700 (PDT)</td>\n",
              "    </tr>\n",
              "    <tr>\n",
              "      <th>558810</th>\n",
              "      <td>automatic</td>\n",
              "      <td>1ftfw1et2eke87277</td>\n",
              "      <td>ca</td>\n",
              "      <td>3.4</td>\n",
              "      <td>15008.0</td>\n",
              "      <td>gray</td>\n",
              "      <td>gray</td>\n",
              "      <td>29600</td>\n",
              "      <td>26700</td>\n",
              "      <td>Thu May 28 2015 05:30:00 GMT-0700 (PDT)</td>\n",
              "    </tr>\n",
              "  </tbody>\n",
              "</table>\n",
              "<p>482966 rows × 10 columns</p>\n",
              "</div>\n",
              "      <button class=\"colab-df-convert\" onclick=\"convertToInteractive('df-1bf6d17f-bfac-497a-8214-492178a133d2')\"\n",
              "              title=\"Convert this dataframe to an interactive table.\"\n",
              "              style=\"display:none;\">\n",
              "        \n",
              "  <svg xmlns=\"http://www.w3.org/2000/svg\" height=\"24px\"viewBox=\"0 0 24 24\"\n",
              "       width=\"24px\">\n",
              "    <path d=\"M0 0h24v24H0V0z\" fill=\"none\"/>\n",
              "    <path d=\"M18.56 5.44l.94 2.06.94-2.06 2.06-.94-2.06-.94-.94-2.06-.94 2.06-2.06.94zm-11 1L8.5 8.5l.94-2.06 2.06-.94-2.06-.94L8.5 2.5l-.94 2.06-2.06.94zm10 10l.94 2.06.94-2.06 2.06-.94-2.06-.94-.94-2.06-.94 2.06-2.06.94z\"/><path d=\"M17.41 7.96l-1.37-1.37c-.4-.4-.92-.59-1.43-.59-.52 0-1.04.2-1.43.59L10.3 9.45l-7.72 7.72c-.78.78-.78 2.05 0 2.83L4 21.41c.39.39.9.59 1.41.59.51 0 1.02-.2 1.41-.59l7.78-7.78 2.81-2.81c.8-.78.8-2.07 0-2.86zM5.41 20L4 18.59l7.72-7.72 1.47 1.35L5.41 20z\"/>\n",
              "  </svg>\n",
              "      </button>\n",
              "      \n",
              "  <style>\n",
              "    .colab-df-container {\n",
              "      display:flex;\n",
              "      flex-wrap:wrap;\n",
              "      gap: 12px;\n",
              "    }\n",
              "\n",
              "    .colab-df-convert {\n",
              "      background-color: #E8F0FE;\n",
              "      border: none;\n",
              "      border-radius: 50%;\n",
              "      cursor: pointer;\n",
              "      display: none;\n",
              "      fill: #1967D2;\n",
              "      height: 32px;\n",
              "      padding: 0 0 0 0;\n",
              "      width: 32px;\n",
              "    }\n",
              "\n",
              "    .colab-df-convert:hover {\n",
              "      background-color: #E2EBFA;\n",
              "      box-shadow: 0px 1px 2px rgba(60, 64, 67, 0.3), 0px 1px 3px 1px rgba(60, 64, 67, 0.15);\n",
              "      fill: #174EA6;\n",
              "    }\n",
              "\n",
              "    [theme=dark] .colab-df-convert {\n",
              "      background-color: #3B4455;\n",
              "      fill: #D2E3FC;\n",
              "    }\n",
              "\n",
              "    [theme=dark] .colab-df-convert:hover {\n",
              "      background-color: #434B5C;\n",
              "      box-shadow: 0px 1px 3px 1px rgba(0, 0, 0, 0.15);\n",
              "      filter: drop-shadow(0px 1px 2px rgba(0, 0, 0, 0.3));\n",
              "      fill: #FFFFFF;\n",
              "    }\n",
              "  </style>\n",
              "\n",
              "      <script>\n",
              "        const buttonEl =\n",
              "          document.querySelector('#df-1bf6d17f-bfac-497a-8214-492178a133d2 button.colab-df-convert');\n",
              "        buttonEl.style.display =\n",
              "          google.colab.kernel.accessAllowed ? 'block' : 'none';\n",
              "\n",
              "        async function convertToInteractive(key) {\n",
              "          const element = document.querySelector('#df-1bf6d17f-bfac-497a-8214-492178a133d2');\n",
              "          const dataTable =\n",
              "            await google.colab.kernel.invokeFunction('convertToInteractive',\n",
              "                                                     [key], {});\n",
              "          if (!dataTable) return;\n",
              "\n",
              "          const docLinkHtml = 'Like what you see? Visit the ' +\n",
              "            '<a target=\"_blank\" href=https://colab.research.google.com/notebooks/data_table.ipynb>data table notebook</a>'\n",
              "            + ' to learn more about interactive tables.';\n",
              "          element.innerHTML = '';\n",
              "          dataTable['output_type'] = 'display_data';\n",
              "          await google.colab.output.renderOutput(dataTable, element);\n",
              "          const docLink = document.createElement('div');\n",
              "          docLink.innerHTML = docLinkHtml;\n",
              "          element.appendChild(docLink);\n",
              "        }\n",
              "      </script>\n",
              "    </div>\n",
              "  </div>\n",
              "  "
            ]
          },
          "metadata": {},
          "execution_count": 10
        }
      ],
      "source": [
        "#deleting rows with undefined values\n",
        "df=df.dropna()\n",
        "df"
      ]
    },
    {
      "cell_type": "code",
      "execution_count": null,
      "metadata": {
        "colab": {
          "base_uri": "https://localhost:8080/",
          "height": 424
        },
        "id": "LejOuG8sRa8o",
        "outputId": "253b85fb-b4d0-4cb8-ae4f-a323dc997ba8"
      },
      "outputs": [
        {
          "output_type": "execute_result",
          "data": {
            "text/plain": [
              "       transmission                vin state  condition  odometer   color  \\\n",
              "29270     automatic  jnrar05y4xw049475    ca        2.0  188185.0  silver   \n",
              "33326     automatic  5npec4ab7dh504364    pa        2.8   32000.0    gray   \n",
              "40505     automatic  3c4fy58834t214497    fl        1.6   82259.0   beige   \n",
              "44068     automatic  2g1wd5em7a1256996    ca        3.5   99045.0   white   \n",
              "44863     automatic  1ftpw14v89ka34567    oh        4.2   84515.0    gray   \n",
              "...             ...                ...   ...        ...       ...     ...   \n",
              "558711    automatic  1j4ga69109l752295    nv        3.7   70423.0   white   \n",
              "558712    automatic  1ftsw21rx8ea22277    nv        3.3  125628.0   black   \n",
              "558724    automatic  1g8zs57n17f246542    ga        2.9   82083.0       —   \n",
              "558774       manual  kndjt2a57c7424577    nv        2.8   53607.0  silver   \n",
              "558782    automatic  wbaun93588vf56134    ca        3.3   96344.0     red   \n",
              "\n",
              "       interior    mmr  sellingprice                                 saledate  \n",
              "29270     beige   1925          1100  Thu Jan 29 2015 04:00:00 GMT-0800 (PST)  \n",
              "33326         —  12150          9800  Fri Jun 05 2015 02:00:00 GMT-0700 (PDT)  \n",
              "40505     black   2200           800  Thu Dec 18 2014 09:35:00 GMT-0800 (PST)  \n",
              "44068      gray   3450          5500  Tue Dec 30 2014 16:00:00 GMT-0800 (PST)  \n",
              "44863      gray  17150         18200  Tue Dec 30 2014 10:00:00 GMT-0800 (PST)  \n",
              "...         ...    ...           ...                                      ...  \n",
              "558711    black  23100         17500  Fri Jun 19 2015 05:00:00 GMT-0700 (PDT)  \n",
              "558712    beige  21000         18700  Fri Jun 19 2015 04:45:00 GMT-0700 (PDT)  \n",
              "558724    beige   5450          5200  Tue Jun 23 2015 06:00:00 GMT-0700 (PDT)  \n",
              "558774    black   7825          8000  Fri Jul 03 2015 09:00:00 GMT-0700 (PDT)  \n",
              "558782    black  12500         13000  Wed Jul 08 2015 09:30:00 GMT-0700 (PDT)  \n",
              "\n",
              "[6722 rows x 10 columns]"
            ],
            "text/html": [
              "\n",
              "  <div id=\"df-0c0dd1a8-a995-4722-b206-06f4be23bb42\">\n",
              "    <div class=\"colab-df-container\">\n",
              "      <div>\n",
              "<style scoped>\n",
              "    .dataframe tbody tr th:only-of-type {\n",
              "        vertical-align: middle;\n",
              "    }\n",
              "\n",
              "    .dataframe tbody tr th {\n",
              "        vertical-align: top;\n",
              "    }\n",
              "\n",
              "    .dataframe thead th {\n",
              "        text-align: right;\n",
              "    }\n",
              "</style>\n",
              "<table border=\"1\" class=\"dataframe\">\n",
              "  <thead>\n",
              "    <tr style=\"text-align: right;\">\n",
              "      <th></th>\n",
              "      <th>transmission</th>\n",
              "      <th>vin</th>\n",
              "      <th>state</th>\n",
              "      <th>condition</th>\n",
              "      <th>odometer</th>\n",
              "      <th>color</th>\n",
              "      <th>interior</th>\n",
              "      <th>mmr</th>\n",
              "      <th>sellingprice</th>\n",
              "      <th>saledate</th>\n",
              "    </tr>\n",
              "  </thead>\n",
              "  <tbody>\n",
              "    <tr>\n",
              "      <th>29270</th>\n",
              "      <td>automatic</td>\n",
              "      <td>jnrar05y4xw049475</td>\n",
              "      <td>ca</td>\n",
              "      <td>2.0</td>\n",
              "      <td>188185.0</td>\n",
              "      <td>silver</td>\n",
              "      <td>beige</td>\n",
              "      <td>1925</td>\n",
              "      <td>1100</td>\n",
              "      <td>Thu Jan 29 2015 04:00:00 GMT-0800 (PST)</td>\n",
              "    </tr>\n",
              "    <tr>\n",
              "      <th>33326</th>\n",
              "      <td>automatic</td>\n",
              "      <td>5npec4ab7dh504364</td>\n",
              "      <td>pa</td>\n",
              "      <td>2.8</td>\n",
              "      <td>32000.0</td>\n",
              "      <td>gray</td>\n",
              "      <td>—</td>\n",
              "      <td>12150</td>\n",
              "      <td>9800</td>\n",
              "      <td>Fri Jun 05 2015 02:00:00 GMT-0700 (PDT)</td>\n",
              "    </tr>\n",
              "    <tr>\n",
              "      <th>40505</th>\n",
              "      <td>automatic</td>\n",
              "      <td>3c4fy58834t214497</td>\n",
              "      <td>fl</td>\n",
              "      <td>1.6</td>\n",
              "      <td>82259.0</td>\n",
              "      <td>beige</td>\n",
              "      <td>black</td>\n",
              "      <td>2200</td>\n",
              "      <td>800</td>\n",
              "      <td>Thu Dec 18 2014 09:35:00 GMT-0800 (PST)</td>\n",
              "    </tr>\n",
              "    <tr>\n",
              "      <th>44068</th>\n",
              "      <td>automatic</td>\n",
              "      <td>2g1wd5em7a1256996</td>\n",
              "      <td>ca</td>\n",
              "      <td>3.5</td>\n",
              "      <td>99045.0</td>\n",
              "      <td>white</td>\n",
              "      <td>gray</td>\n",
              "      <td>3450</td>\n",
              "      <td>5500</td>\n",
              "      <td>Tue Dec 30 2014 16:00:00 GMT-0800 (PST)</td>\n",
              "    </tr>\n",
              "    <tr>\n",
              "      <th>44863</th>\n",
              "      <td>automatic</td>\n",
              "      <td>1ftpw14v89ka34567</td>\n",
              "      <td>oh</td>\n",
              "      <td>4.2</td>\n",
              "      <td>84515.0</td>\n",
              "      <td>gray</td>\n",
              "      <td>gray</td>\n",
              "      <td>17150</td>\n",
              "      <td>18200</td>\n",
              "      <td>Tue Dec 30 2014 10:00:00 GMT-0800 (PST)</td>\n",
              "    </tr>\n",
              "    <tr>\n",
              "      <th>...</th>\n",
              "      <td>...</td>\n",
              "      <td>...</td>\n",
              "      <td>...</td>\n",
              "      <td>...</td>\n",
              "      <td>...</td>\n",
              "      <td>...</td>\n",
              "      <td>...</td>\n",
              "      <td>...</td>\n",
              "      <td>...</td>\n",
              "      <td>...</td>\n",
              "    </tr>\n",
              "    <tr>\n",
              "      <th>558711</th>\n",
              "      <td>automatic</td>\n",
              "      <td>1j4ga69109l752295</td>\n",
              "      <td>nv</td>\n",
              "      <td>3.7</td>\n",
              "      <td>70423.0</td>\n",
              "      <td>white</td>\n",
              "      <td>black</td>\n",
              "      <td>23100</td>\n",
              "      <td>17500</td>\n",
              "      <td>Fri Jun 19 2015 05:00:00 GMT-0700 (PDT)</td>\n",
              "    </tr>\n",
              "    <tr>\n",
              "      <th>558712</th>\n",
              "      <td>automatic</td>\n",
              "      <td>1ftsw21rx8ea22277</td>\n",
              "      <td>nv</td>\n",
              "      <td>3.3</td>\n",
              "      <td>125628.0</td>\n",
              "      <td>black</td>\n",
              "      <td>beige</td>\n",
              "      <td>21000</td>\n",
              "      <td>18700</td>\n",
              "      <td>Fri Jun 19 2015 04:45:00 GMT-0700 (PDT)</td>\n",
              "    </tr>\n",
              "    <tr>\n",
              "      <th>558724</th>\n",
              "      <td>automatic</td>\n",
              "      <td>1g8zs57n17f246542</td>\n",
              "      <td>ga</td>\n",
              "      <td>2.9</td>\n",
              "      <td>82083.0</td>\n",
              "      <td>—</td>\n",
              "      <td>beige</td>\n",
              "      <td>5450</td>\n",
              "      <td>5200</td>\n",
              "      <td>Tue Jun 23 2015 06:00:00 GMT-0700 (PDT)</td>\n",
              "    </tr>\n",
              "    <tr>\n",
              "      <th>558774</th>\n",
              "      <td>manual</td>\n",
              "      <td>kndjt2a57c7424577</td>\n",
              "      <td>nv</td>\n",
              "      <td>2.8</td>\n",
              "      <td>53607.0</td>\n",
              "      <td>silver</td>\n",
              "      <td>black</td>\n",
              "      <td>7825</td>\n",
              "      <td>8000</td>\n",
              "      <td>Fri Jul 03 2015 09:00:00 GMT-0700 (PDT)</td>\n",
              "    </tr>\n",
              "    <tr>\n",
              "      <th>558782</th>\n",
              "      <td>automatic</td>\n",
              "      <td>wbaun93588vf56134</td>\n",
              "      <td>ca</td>\n",
              "      <td>3.3</td>\n",
              "      <td>96344.0</td>\n",
              "      <td>red</td>\n",
              "      <td>black</td>\n",
              "      <td>12500</td>\n",
              "      <td>13000</td>\n",
              "      <td>Wed Jul 08 2015 09:30:00 GMT-0700 (PDT)</td>\n",
              "    </tr>\n",
              "  </tbody>\n",
              "</table>\n",
              "<p>6722 rows × 10 columns</p>\n",
              "</div>\n",
              "      <button class=\"colab-df-convert\" onclick=\"convertToInteractive('df-0c0dd1a8-a995-4722-b206-06f4be23bb42')\"\n",
              "              title=\"Convert this dataframe to an interactive table.\"\n",
              "              style=\"display:none;\">\n",
              "        \n",
              "  <svg xmlns=\"http://www.w3.org/2000/svg\" height=\"24px\"viewBox=\"0 0 24 24\"\n",
              "       width=\"24px\">\n",
              "    <path d=\"M0 0h24v24H0V0z\" fill=\"none\"/>\n",
              "    <path d=\"M18.56 5.44l.94 2.06.94-2.06 2.06-.94-2.06-.94-.94-2.06-.94 2.06-2.06.94zm-11 1L8.5 8.5l.94-2.06 2.06-.94-2.06-.94L8.5 2.5l-.94 2.06-2.06.94zm10 10l.94 2.06.94-2.06 2.06-.94-2.06-.94-.94-2.06-.94 2.06-2.06.94z\"/><path d=\"M17.41 7.96l-1.37-1.37c-.4-.4-.92-.59-1.43-.59-.52 0-1.04.2-1.43.59L10.3 9.45l-7.72 7.72c-.78.78-.78 2.05 0 2.83L4 21.41c.39.39.9.59 1.41.59.51 0 1.02-.2 1.41-.59l7.78-7.78 2.81-2.81c.8-.78.8-2.07 0-2.86zM5.41 20L4 18.59l7.72-7.72 1.47 1.35L5.41 20z\"/>\n",
              "  </svg>\n",
              "      </button>\n",
              "      \n",
              "  <style>\n",
              "    .colab-df-container {\n",
              "      display:flex;\n",
              "      flex-wrap:wrap;\n",
              "      gap: 12px;\n",
              "    }\n",
              "\n",
              "    .colab-df-convert {\n",
              "      background-color: #E8F0FE;\n",
              "      border: none;\n",
              "      border-radius: 50%;\n",
              "      cursor: pointer;\n",
              "      display: none;\n",
              "      fill: #1967D2;\n",
              "      height: 32px;\n",
              "      padding: 0 0 0 0;\n",
              "      width: 32px;\n",
              "    }\n",
              "\n",
              "    .colab-df-convert:hover {\n",
              "      background-color: #E2EBFA;\n",
              "      box-shadow: 0px 1px 2px rgba(60, 64, 67, 0.3), 0px 1px 3px 1px rgba(60, 64, 67, 0.15);\n",
              "      fill: #174EA6;\n",
              "    }\n",
              "\n",
              "    [theme=dark] .colab-df-convert {\n",
              "      background-color: #3B4455;\n",
              "      fill: #D2E3FC;\n",
              "    }\n",
              "\n",
              "    [theme=dark] .colab-df-convert:hover {\n",
              "      background-color: #434B5C;\n",
              "      box-shadow: 0px 1px 3px 1px rgba(0, 0, 0, 0.15);\n",
              "      filter: drop-shadow(0px 1px 2px rgba(0, 0, 0, 0.3));\n",
              "      fill: #FFFFFF;\n",
              "    }\n",
              "  </style>\n",
              "\n",
              "      <script>\n",
              "        const buttonEl =\n",
              "          document.querySelector('#df-0c0dd1a8-a995-4722-b206-06f4be23bb42 button.colab-df-convert');\n",
              "        buttonEl.style.display =\n",
              "          google.colab.kernel.accessAllowed ? 'block' : 'none';\n",
              "\n",
              "        async function convertToInteractive(key) {\n",
              "          const element = document.querySelector('#df-0c0dd1a8-a995-4722-b206-06f4be23bb42');\n",
              "          const dataTable =\n",
              "            await google.colab.kernel.invokeFunction('convertToInteractive',\n",
              "                                                     [key], {});\n",
              "          if (!dataTable) return;\n",
              "\n",
              "          const docLinkHtml = 'Like what you see? Visit the ' +\n",
              "            '<a target=\"_blank\" href=https://colab.research.google.com/notebooks/data_table.ipynb>data table notebook</a>'\n",
              "            + ' to learn more about interactive tables.';\n",
              "          element.innerHTML = '';\n",
              "          dataTable['output_type'] = 'display_data';\n",
              "          await google.colab.output.renderOutput(dataTable, element);\n",
              "          const docLink = document.createElement('div');\n",
              "          docLink.innerHTML = docLinkHtml;\n",
              "          element.appendChild(docLink);\n",
              "        }\n",
              "      </script>\n",
              "    </div>\n",
              "  </div>\n",
              "  "
            ]
          },
          "metadata": {},
          "execution_count": 11
        }
      ],
      "source": [
        "#searching for duplicate vins\n",
        "df[df.duplicated('vin')]"
      ]
    },
    {
      "cell_type": "markdown",
      "metadata": {
        "id": "MSw7ZysVR62O"
      },
      "source": [
        "There are several thousand duplicates, which is quite significant."
      ]
    },
    {
      "cell_type": "code",
      "execution_count": null,
      "metadata": {
        "colab": {
          "base_uri": "https://localhost:8080/",
          "height": 112
        },
        "id": "OHOW72nPSSTG",
        "outputId": "059dc4b7-b1e8-438b-c8fd-edbf9642a67d"
      },
      "outputs": [
        {
          "output_type": "execute_result",
          "data": {
            "text/plain": [
              "      transmission                vin state  condition  odometer   color  \\\n",
              "5105     automatic  jnrar05y4xw049475    ca        2.8       1.0  silver   \n",
              "29270    automatic  jnrar05y4xw049475    ca        2.0  188185.0  silver   \n",
              "\n",
              "      interior   mmr  sellingprice                                 saledate  \n",
              "5105     beige  3675           350  Tue Dec 30 2014 13:00:00 GMT-0800 (PST)  \n",
              "29270    beige  1925          1100  Thu Jan 29 2015 04:00:00 GMT-0800 (PST)  "
            ],
            "text/html": [
              "\n",
              "  <div id=\"df-ee9518c0-93c3-4341-9590-d2d55f5a181f\">\n",
              "    <div class=\"colab-df-container\">\n",
              "      <div>\n",
              "<style scoped>\n",
              "    .dataframe tbody tr th:only-of-type {\n",
              "        vertical-align: middle;\n",
              "    }\n",
              "\n",
              "    .dataframe tbody tr th {\n",
              "        vertical-align: top;\n",
              "    }\n",
              "\n",
              "    .dataframe thead th {\n",
              "        text-align: right;\n",
              "    }\n",
              "</style>\n",
              "<table border=\"1\" class=\"dataframe\">\n",
              "  <thead>\n",
              "    <tr style=\"text-align: right;\">\n",
              "      <th></th>\n",
              "      <th>transmission</th>\n",
              "      <th>vin</th>\n",
              "      <th>state</th>\n",
              "      <th>condition</th>\n",
              "      <th>odometer</th>\n",
              "      <th>color</th>\n",
              "      <th>interior</th>\n",
              "      <th>mmr</th>\n",
              "      <th>sellingprice</th>\n",
              "      <th>saledate</th>\n",
              "    </tr>\n",
              "  </thead>\n",
              "  <tbody>\n",
              "    <tr>\n",
              "      <th>5105</th>\n",
              "      <td>automatic</td>\n",
              "      <td>jnrar05y4xw049475</td>\n",
              "      <td>ca</td>\n",
              "      <td>2.8</td>\n",
              "      <td>1.0</td>\n",
              "      <td>silver</td>\n",
              "      <td>beige</td>\n",
              "      <td>3675</td>\n",
              "      <td>350</td>\n",
              "      <td>Tue Dec 30 2014 13:00:00 GMT-0800 (PST)</td>\n",
              "    </tr>\n",
              "    <tr>\n",
              "      <th>29270</th>\n",
              "      <td>automatic</td>\n",
              "      <td>jnrar05y4xw049475</td>\n",
              "      <td>ca</td>\n",
              "      <td>2.0</td>\n",
              "      <td>188185.0</td>\n",
              "      <td>silver</td>\n",
              "      <td>beige</td>\n",
              "      <td>1925</td>\n",
              "      <td>1100</td>\n",
              "      <td>Thu Jan 29 2015 04:00:00 GMT-0800 (PST)</td>\n",
              "    </tr>\n",
              "  </tbody>\n",
              "</table>\n",
              "</div>\n",
              "      <button class=\"colab-df-convert\" onclick=\"convertToInteractive('df-ee9518c0-93c3-4341-9590-d2d55f5a181f')\"\n",
              "              title=\"Convert this dataframe to an interactive table.\"\n",
              "              style=\"display:none;\">\n",
              "        \n",
              "  <svg xmlns=\"http://www.w3.org/2000/svg\" height=\"24px\"viewBox=\"0 0 24 24\"\n",
              "       width=\"24px\">\n",
              "    <path d=\"M0 0h24v24H0V0z\" fill=\"none\"/>\n",
              "    <path d=\"M18.56 5.44l.94 2.06.94-2.06 2.06-.94-2.06-.94-.94-2.06-.94 2.06-2.06.94zm-11 1L8.5 8.5l.94-2.06 2.06-.94-2.06-.94L8.5 2.5l-.94 2.06-2.06.94zm10 10l.94 2.06.94-2.06 2.06-.94-2.06-.94-.94-2.06-.94 2.06-2.06.94z\"/><path d=\"M17.41 7.96l-1.37-1.37c-.4-.4-.92-.59-1.43-.59-.52 0-1.04.2-1.43.59L10.3 9.45l-7.72 7.72c-.78.78-.78 2.05 0 2.83L4 21.41c.39.39.9.59 1.41.59.51 0 1.02-.2 1.41-.59l7.78-7.78 2.81-2.81c.8-.78.8-2.07 0-2.86zM5.41 20L4 18.59l7.72-7.72 1.47 1.35L5.41 20z\"/>\n",
              "  </svg>\n",
              "      </button>\n",
              "      \n",
              "  <style>\n",
              "    .colab-df-container {\n",
              "      display:flex;\n",
              "      flex-wrap:wrap;\n",
              "      gap: 12px;\n",
              "    }\n",
              "\n",
              "    .colab-df-convert {\n",
              "      background-color: #E8F0FE;\n",
              "      border: none;\n",
              "      border-radius: 50%;\n",
              "      cursor: pointer;\n",
              "      display: none;\n",
              "      fill: #1967D2;\n",
              "      height: 32px;\n",
              "      padding: 0 0 0 0;\n",
              "      width: 32px;\n",
              "    }\n",
              "\n",
              "    .colab-df-convert:hover {\n",
              "      background-color: #E2EBFA;\n",
              "      box-shadow: 0px 1px 2px rgba(60, 64, 67, 0.3), 0px 1px 3px 1px rgba(60, 64, 67, 0.15);\n",
              "      fill: #174EA6;\n",
              "    }\n",
              "\n",
              "    [theme=dark] .colab-df-convert {\n",
              "      background-color: #3B4455;\n",
              "      fill: #D2E3FC;\n",
              "    }\n",
              "\n",
              "    [theme=dark] .colab-df-convert:hover {\n",
              "      background-color: #434B5C;\n",
              "      box-shadow: 0px 1px 3px 1px rgba(0, 0, 0, 0.15);\n",
              "      filter: drop-shadow(0px 1px 2px rgba(0, 0, 0, 0.3));\n",
              "      fill: #FFFFFF;\n",
              "    }\n",
              "  </style>\n",
              "\n",
              "      <script>\n",
              "        const buttonEl =\n",
              "          document.querySelector('#df-ee9518c0-93c3-4341-9590-d2d55f5a181f button.colab-df-convert');\n",
              "        buttonEl.style.display =\n",
              "          google.colab.kernel.accessAllowed ? 'block' : 'none';\n",
              "\n",
              "        async function convertToInteractive(key) {\n",
              "          const element = document.querySelector('#df-ee9518c0-93c3-4341-9590-d2d55f5a181f');\n",
              "          const dataTable =\n",
              "            await google.colab.kernel.invokeFunction('convertToInteractive',\n",
              "                                                     [key], {});\n",
              "          if (!dataTable) return;\n",
              "\n",
              "          const docLinkHtml = 'Like what you see? Visit the ' +\n",
              "            '<a target=\"_blank\" href=https://colab.research.google.com/notebooks/data_table.ipynb>data table notebook</a>'\n",
              "            + ' to learn more about interactive tables.';\n",
              "          element.innerHTML = '';\n",
              "          dataTable['output_type'] = 'display_data';\n",
              "          await google.colab.output.renderOutput(dataTable, element);\n",
              "          const docLink = document.createElement('div');\n",
              "          docLink.innerHTML = docLinkHtml;\n",
              "          element.appendChild(docLink);\n",
              "        }\n",
              "      </script>\n",
              "    </div>\n",
              "  </div>\n",
              "  "
            ]
          },
          "metadata": {},
          "execution_count": 12
        }
      ],
      "source": [
        "#vin jnrar05y4xw049475\n",
        "df[df.vin == 'jnrar05y4xw049475']"
      ]
    },
    {
      "cell_type": "code",
      "execution_count": null,
      "metadata": {
        "colab": {
          "base_uri": "https://localhost:8080/",
          "height": 112
        },
        "id": "MPGoQNDGSJ7I",
        "outputId": "48ad64da-b1db-4210-9bd3-544734c189cf"
      },
      "outputs": [
        {
          "output_type": "execute_result",
          "data": {
            "text/plain": [
              "      transmission                vin state  condition  odometer color  \\\n",
              "33235    automatic  5npec4ab7dh504364    pa        3.8   32325.0  gray   \n",
              "33326    automatic  5npec4ab7dh504364    pa        2.8   32000.0  gray   \n",
              "\n",
              "      interior    mmr  sellingprice                                 saledate  \n",
              "33235     gray  13800         13500  Fri Dec 19 2014 09:00:00 GMT-0800 (PST)  \n",
              "33326        —  12150          9800  Fri Jun 05 2015 02:00:00 GMT-0700 (PDT)  "
            ],
            "text/html": [
              "\n",
              "  <div id=\"df-e5daffbf-b194-4852-8391-1adadc323894\">\n",
              "    <div class=\"colab-df-container\">\n",
              "      <div>\n",
              "<style scoped>\n",
              "    .dataframe tbody tr th:only-of-type {\n",
              "        vertical-align: middle;\n",
              "    }\n",
              "\n",
              "    .dataframe tbody tr th {\n",
              "        vertical-align: top;\n",
              "    }\n",
              "\n",
              "    .dataframe thead th {\n",
              "        text-align: right;\n",
              "    }\n",
              "</style>\n",
              "<table border=\"1\" class=\"dataframe\">\n",
              "  <thead>\n",
              "    <tr style=\"text-align: right;\">\n",
              "      <th></th>\n",
              "      <th>transmission</th>\n",
              "      <th>vin</th>\n",
              "      <th>state</th>\n",
              "      <th>condition</th>\n",
              "      <th>odometer</th>\n",
              "      <th>color</th>\n",
              "      <th>interior</th>\n",
              "      <th>mmr</th>\n",
              "      <th>sellingprice</th>\n",
              "      <th>saledate</th>\n",
              "    </tr>\n",
              "  </thead>\n",
              "  <tbody>\n",
              "    <tr>\n",
              "      <th>33235</th>\n",
              "      <td>automatic</td>\n",
              "      <td>5npec4ab7dh504364</td>\n",
              "      <td>pa</td>\n",
              "      <td>3.8</td>\n",
              "      <td>32325.0</td>\n",
              "      <td>gray</td>\n",
              "      <td>gray</td>\n",
              "      <td>13800</td>\n",
              "      <td>13500</td>\n",
              "      <td>Fri Dec 19 2014 09:00:00 GMT-0800 (PST)</td>\n",
              "    </tr>\n",
              "    <tr>\n",
              "      <th>33326</th>\n",
              "      <td>automatic</td>\n",
              "      <td>5npec4ab7dh504364</td>\n",
              "      <td>pa</td>\n",
              "      <td>2.8</td>\n",
              "      <td>32000.0</td>\n",
              "      <td>gray</td>\n",
              "      <td>—</td>\n",
              "      <td>12150</td>\n",
              "      <td>9800</td>\n",
              "      <td>Fri Jun 05 2015 02:00:00 GMT-0700 (PDT)</td>\n",
              "    </tr>\n",
              "  </tbody>\n",
              "</table>\n",
              "</div>\n",
              "      <button class=\"colab-df-convert\" onclick=\"convertToInteractive('df-e5daffbf-b194-4852-8391-1adadc323894')\"\n",
              "              title=\"Convert this dataframe to an interactive table.\"\n",
              "              style=\"display:none;\">\n",
              "        \n",
              "  <svg xmlns=\"http://www.w3.org/2000/svg\" height=\"24px\"viewBox=\"0 0 24 24\"\n",
              "       width=\"24px\">\n",
              "    <path d=\"M0 0h24v24H0V0z\" fill=\"none\"/>\n",
              "    <path d=\"M18.56 5.44l.94 2.06.94-2.06 2.06-.94-2.06-.94-.94-2.06-.94 2.06-2.06.94zm-11 1L8.5 8.5l.94-2.06 2.06-.94-2.06-.94L8.5 2.5l-.94 2.06-2.06.94zm10 10l.94 2.06.94-2.06 2.06-.94-2.06-.94-.94-2.06-.94 2.06-2.06.94z\"/><path d=\"M17.41 7.96l-1.37-1.37c-.4-.4-.92-.59-1.43-.59-.52 0-1.04.2-1.43.59L10.3 9.45l-7.72 7.72c-.78.78-.78 2.05 0 2.83L4 21.41c.39.39.9.59 1.41.59.51 0 1.02-.2 1.41-.59l7.78-7.78 2.81-2.81c.8-.78.8-2.07 0-2.86zM5.41 20L4 18.59l7.72-7.72 1.47 1.35L5.41 20z\"/>\n",
              "  </svg>\n",
              "      </button>\n",
              "      \n",
              "  <style>\n",
              "    .colab-df-container {\n",
              "      display:flex;\n",
              "      flex-wrap:wrap;\n",
              "      gap: 12px;\n",
              "    }\n",
              "\n",
              "    .colab-df-convert {\n",
              "      background-color: #E8F0FE;\n",
              "      border: none;\n",
              "      border-radius: 50%;\n",
              "      cursor: pointer;\n",
              "      display: none;\n",
              "      fill: #1967D2;\n",
              "      height: 32px;\n",
              "      padding: 0 0 0 0;\n",
              "      width: 32px;\n",
              "    }\n",
              "\n",
              "    .colab-df-convert:hover {\n",
              "      background-color: #E2EBFA;\n",
              "      box-shadow: 0px 1px 2px rgba(60, 64, 67, 0.3), 0px 1px 3px 1px rgba(60, 64, 67, 0.15);\n",
              "      fill: #174EA6;\n",
              "    }\n",
              "\n",
              "    [theme=dark] .colab-df-convert {\n",
              "      background-color: #3B4455;\n",
              "      fill: #D2E3FC;\n",
              "    }\n",
              "\n",
              "    [theme=dark] .colab-df-convert:hover {\n",
              "      background-color: #434B5C;\n",
              "      box-shadow: 0px 1px 3px 1px rgba(0, 0, 0, 0.15);\n",
              "      filter: drop-shadow(0px 1px 2px rgba(0, 0, 0, 0.3));\n",
              "      fill: #FFFFFF;\n",
              "    }\n",
              "  </style>\n",
              "\n",
              "      <script>\n",
              "        const buttonEl =\n",
              "          document.querySelector('#df-e5daffbf-b194-4852-8391-1adadc323894 button.colab-df-convert');\n",
              "        buttonEl.style.display =\n",
              "          google.colab.kernel.accessAllowed ? 'block' : 'none';\n",
              "\n",
              "        async function convertToInteractive(key) {\n",
              "          const element = document.querySelector('#df-e5daffbf-b194-4852-8391-1adadc323894');\n",
              "          const dataTable =\n",
              "            await google.colab.kernel.invokeFunction('convertToInteractive',\n",
              "                                                     [key], {});\n",
              "          if (!dataTable) return;\n",
              "\n",
              "          const docLinkHtml = 'Like what you see? Visit the ' +\n",
              "            '<a target=\"_blank\" href=https://colab.research.google.com/notebooks/data_table.ipynb>data table notebook</a>'\n",
              "            + ' to learn more about interactive tables.';\n",
              "          element.innerHTML = '';\n",
              "          dataTable['output_type'] = 'display_data';\n",
              "          await google.colab.output.renderOutput(dataTable, element);\n",
              "          const docLink = document.createElement('div');\n",
              "          docLink.innerHTML = docLinkHtml;\n",
              "          element.appendChild(docLink);\n",
              "        }\n",
              "      </script>\n",
              "    </div>\n",
              "  </div>\n",
              "  "
            ]
          },
          "metadata": {},
          "execution_count": 13
        }
      ],
      "source": [
        "#vin 5npec4ab7dh504364\n",
        "df[df.vin == '5npec4ab7dh504364']"
      ]
    },
    {
      "cell_type": "code",
      "execution_count": null,
      "metadata": {
        "colab": {
          "base_uri": "https://localhost:8080/",
          "height": 112
        },
        "id": "SiKnK1RtTqvz",
        "outputId": "3ea9bf92-7087-4ce9-ae00-68d365d751b5"
      },
      "outputs": [
        {
          "output_type": "execute_result",
          "data": {
            "text/plain": [
              "       transmission                vin state  condition  odometer  color  \\\n",
              "470372    automatic  1j4ga69109l752295    ca        3.7   70171.0  white   \n",
              "558711    automatic  1j4ga69109l752295    nv        3.7   70423.0  white   \n",
              "\n",
              "       interior    mmr  sellingprice                                 saledate  \n",
              "470372    black  23600         17750  Wed Jun 03 2015 05:15:00 GMT-0700 (PDT)  \n",
              "558711    black  23100         17500  Fri Jun 19 2015 05:00:00 GMT-0700 (PDT)  "
            ],
            "text/html": [
              "\n",
              "  <div id=\"df-2a3fd008-b818-4545-b9b6-5295547fca44\">\n",
              "    <div class=\"colab-df-container\">\n",
              "      <div>\n",
              "<style scoped>\n",
              "    .dataframe tbody tr th:only-of-type {\n",
              "        vertical-align: middle;\n",
              "    }\n",
              "\n",
              "    .dataframe tbody tr th {\n",
              "        vertical-align: top;\n",
              "    }\n",
              "\n",
              "    .dataframe thead th {\n",
              "        text-align: right;\n",
              "    }\n",
              "</style>\n",
              "<table border=\"1\" class=\"dataframe\">\n",
              "  <thead>\n",
              "    <tr style=\"text-align: right;\">\n",
              "      <th></th>\n",
              "      <th>transmission</th>\n",
              "      <th>vin</th>\n",
              "      <th>state</th>\n",
              "      <th>condition</th>\n",
              "      <th>odometer</th>\n",
              "      <th>color</th>\n",
              "      <th>interior</th>\n",
              "      <th>mmr</th>\n",
              "      <th>sellingprice</th>\n",
              "      <th>saledate</th>\n",
              "    </tr>\n",
              "  </thead>\n",
              "  <tbody>\n",
              "    <tr>\n",
              "      <th>470372</th>\n",
              "      <td>automatic</td>\n",
              "      <td>1j4ga69109l752295</td>\n",
              "      <td>ca</td>\n",
              "      <td>3.7</td>\n",
              "      <td>70171.0</td>\n",
              "      <td>white</td>\n",
              "      <td>black</td>\n",
              "      <td>23600</td>\n",
              "      <td>17750</td>\n",
              "      <td>Wed Jun 03 2015 05:15:00 GMT-0700 (PDT)</td>\n",
              "    </tr>\n",
              "    <tr>\n",
              "      <th>558711</th>\n",
              "      <td>automatic</td>\n",
              "      <td>1j4ga69109l752295</td>\n",
              "      <td>nv</td>\n",
              "      <td>3.7</td>\n",
              "      <td>70423.0</td>\n",
              "      <td>white</td>\n",
              "      <td>black</td>\n",
              "      <td>23100</td>\n",
              "      <td>17500</td>\n",
              "      <td>Fri Jun 19 2015 05:00:00 GMT-0700 (PDT)</td>\n",
              "    </tr>\n",
              "  </tbody>\n",
              "</table>\n",
              "</div>\n",
              "      <button class=\"colab-df-convert\" onclick=\"convertToInteractive('df-2a3fd008-b818-4545-b9b6-5295547fca44')\"\n",
              "              title=\"Convert this dataframe to an interactive table.\"\n",
              "              style=\"display:none;\">\n",
              "        \n",
              "  <svg xmlns=\"http://www.w3.org/2000/svg\" height=\"24px\"viewBox=\"0 0 24 24\"\n",
              "       width=\"24px\">\n",
              "    <path d=\"M0 0h24v24H0V0z\" fill=\"none\"/>\n",
              "    <path d=\"M18.56 5.44l.94 2.06.94-2.06 2.06-.94-2.06-.94-.94-2.06-.94 2.06-2.06.94zm-11 1L8.5 8.5l.94-2.06 2.06-.94-2.06-.94L8.5 2.5l-.94 2.06-2.06.94zm10 10l.94 2.06.94-2.06 2.06-.94-2.06-.94-.94-2.06-.94 2.06-2.06.94z\"/><path d=\"M17.41 7.96l-1.37-1.37c-.4-.4-.92-.59-1.43-.59-.52 0-1.04.2-1.43.59L10.3 9.45l-7.72 7.72c-.78.78-.78 2.05 0 2.83L4 21.41c.39.39.9.59 1.41.59.51 0 1.02-.2 1.41-.59l7.78-7.78 2.81-2.81c.8-.78.8-2.07 0-2.86zM5.41 20L4 18.59l7.72-7.72 1.47 1.35L5.41 20z\"/>\n",
              "  </svg>\n",
              "      </button>\n",
              "      \n",
              "  <style>\n",
              "    .colab-df-container {\n",
              "      display:flex;\n",
              "      flex-wrap:wrap;\n",
              "      gap: 12px;\n",
              "    }\n",
              "\n",
              "    .colab-df-convert {\n",
              "      background-color: #E8F0FE;\n",
              "      border: none;\n",
              "      border-radius: 50%;\n",
              "      cursor: pointer;\n",
              "      display: none;\n",
              "      fill: #1967D2;\n",
              "      height: 32px;\n",
              "      padding: 0 0 0 0;\n",
              "      width: 32px;\n",
              "    }\n",
              "\n",
              "    .colab-df-convert:hover {\n",
              "      background-color: #E2EBFA;\n",
              "      box-shadow: 0px 1px 2px rgba(60, 64, 67, 0.3), 0px 1px 3px 1px rgba(60, 64, 67, 0.15);\n",
              "      fill: #174EA6;\n",
              "    }\n",
              "\n",
              "    [theme=dark] .colab-df-convert {\n",
              "      background-color: #3B4455;\n",
              "      fill: #D2E3FC;\n",
              "    }\n",
              "\n",
              "    [theme=dark] .colab-df-convert:hover {\n",
              "      background-color: #434B5C;\n",
              "      box-shadow: 0px 1px 3px 1px rgba(0, 0, 0, 0.15);\n",
              "      filter: drop-shadow(0px 1px 2px rgba(0, 0, 0, 0.3));\n",
              "      fill: #FFFFFF;\n",
              "    }\n",
              "  </style>\n",
              "\n",
              "      <script>\n",
              "        const buttonEl =\n",
              "          document.querySelector('#df-2a3fd008-b818-4545-b9b6-5295547fca44 button.colab-df-convert');\n",
              "        buttonEl.style.display =\n",
              "          google.colab.kernel.accessAllowed ? 'block' : 'none';\n",
              "\n",
              "        async function convertToInteractive(key) {\n",
              "          const element = document.querySelector('#df-2a3fd008-b818-4545-b9b6-5295547fca44');\n",
              "          const dataTable =\n",
              "            await google.colab.kernel.invokeFunction('convertToInteractive',\n",
              "                                                     [key], {});\n",
              "          if (!dataTable) return;\n",
              "\n",
              "          const docLinkHtml = 'Like what you see? Visit the ' +\n",
              "            '<a target=\"_blank\" href=https://colab.research.google.com/notebooks/data_table.ipynb>data table notebook</a>'\n",
              "            + ' to learn more about interactive tables.';\n",
              "          element.innerHTML = '';\n",
              "          dataTable['output_type'] = 'display_data';\n",
              "          await google.colab.output.renderOutput(dataTable, element);\n",
              "          const docLink = document.createElement('div');\n",
              "          docLink.innerHTML = docLinkHtml;\n",
              "          element.appendChild(docLink);\n",
              "        }\n",
              "      </script>\n",
              "    </div>\n",
              "  </div>\n",
              "  "
            ]
          },
          "metadata": {},
          "execution_count": 14
        }
      ],
      "source": [
        "#vin 1j4ga69109l752295\n",
        "df[df.vin == '1j4ga69109l752295']"
      ]
    },
    {
      "cell_type": "markdown",
      "metadata": {
        "id": "VUpB1SJdUsM-"
      },
      "source": [
        " it becomes clear that the same car was resold. Over time, the mileage and condition of the car change, and the price decreases. Therefore, duplicates can be considered as separate cars due to their different characteristics and prices."
      ]
    },
    {
      "cell_type": "code",
      "execution_count": null,
      "metadata": {
        "id": "QGNBIpfMXcXv"
      },
      "outputs": [],
      "source": [
        "#deleting the vin and saledate column, because they were needed for analysis for duplicates\n",
        "df=df.drop(labels=['vin','saledate'], axis=1)\n"
      ]
    },
    {
      "cell_type": "markdown",
      "source": [
        "I am going  study the descriptive statistics"
      ],
      "metadata": {
        "id": "agzGSnjR3ZQq"
      }
    },
    {
      "cell_type": "code",
      "execution_count": null,
      "metadata": {
        "colab": {
          "base_uri": "https://localhost:8080/",
          "height": 300
        },
        "id": "4iPoA1_nZKwB",
        "outputId": "41f05b49-6fcd-41a2-d33a-523a191c9991"
      },
      "outputs": [
        {
          "output_type": "execute_result",
          "data": {
            "text/plain": [
              "           condition       odometer            mmr   sellingprice\n",
              "count  482966.000000  482966.000000  482966.000000  482966.000000\n",
              "mean        3.414378   67718.523509   13733.827226   13588.866548\n",
              "std         0.946916   52597.409365    9591.109085    9669.367601\n",
              "min         1.000000       1.000000      25.000000       1.000000\n",
              "25%         2.700000   28456.000000    7225.000000    7000.000000\n",
              "50%         3.600000   52175.000000   12200.000000   12100.000000\n",
              "75%         4.200000   98118.000000   18200.000000   18100.000000\n",
              "max         5.000000  999999.000000  182000.000000  230000.000000"
            ],
            "text/html": [
              "\n",
              "  <div id=\"df-bfd8e2ce-a450-41b8-923d-cbe5f910920a\">\n",
              "    <div class=\"colab-df-container\">\n",
              "      <div>\n",
              "<style scoped>\n",
              "    .dataframe tbody tr th:only-of-type {\n",
              "        vertical-align: middle;\n",
              "    }\n",
              "\n",
              "    .dataframe tbody tr th {\n",
              "        vertical-align: top;\n",
              "    }\n",
              "\n",
              "    .dataframe thead th {\n",
              "        text-align: right;\n",
              "    }\n",
              "</style>\n",
              "<table border=\"1\" class=\"dataframe\">\n",
              "  <thead>\n",
              "    <tr style=\"text-align: right;\">\n",
              "      <th></th>\n",
              "      <th>condition</th>\n",
              "      <th>odometer</th>\n",
              "      <th>mmr</th>\n",
              "      <th>sellingprice</th>\n",
              "    </tr>\n",
              "  </thead>\n",
              "  <tbody>\n",
              "    <tr>\n",
              "      <th>count</th>\n",
              "      <td>482966.000000</td>\n",
              "      <td>482966.000000</td>\n",
              "      <td>482966.000000</td>\n",
              "      <td>482966.000000</td>\n",
              "    </tr>\n",
              "    <tr>\n",
              "      <th>mean</th>\n",
              "      <td>3.414378</td>\n",
              "      <td>67718.523509</td>\n",
              "      <td>13733.827226</td>\n",
              "      <td>13588.866548</td>\n",
              "    </tr>\n",
              "    <tr>\n",
              "      <th>std</th>\n",
              "      <td>0.946916</td>\n",
              "      <td>52597.409365</td>\n",
              "      <td>9591.109085</td>\n",
              "      <td>9669.367601</td>\n",
              "    </tr>\n",
              "    <tr>\n",
              "      <th>min</th>\n",
              "      <td>1.000000</td>\n",
              "      <td>1.000000</td>\n",
              "      <td>25.000000</td>\n",
              "      <td>1.000000</td>\n",
              "    </tr>\n",
              "    <tr>\n",
              "      <th>25%</th>\n",
              "      <td>2.700000</td>\n",
              "      <td>28456.000000</td>\n",
              "      <td>7225.000000</td>\n",
              "      <td>7000.000000</td>\n",
              "    </tr>\n",
              "    <tr>\n",
              "      <th>50%</th>\n",
              "      <td>3.600000</td>\n",
              "      <td>52175.000000</td>\n",
              "      <td>12200.000000</td>\n",
              "      <td>12100.000000</td>\n",
              "    </tr>\n",
              "    <tr>\n",
              "      <th>75%</th>\n",
              "      <td>4.200000</td>\n",
              "      <td>98118.000000</td>\n",
              "      <td>18200.000000</td>\n",
              "      <td>18100.000000</td>\n",
              "    </tr>\n",
              "    <tr>\n",
              "      <th>max</th>\n",
              "      <td>5.000000</td>\n",
              "      <td>999999.000000</td>\n",
              "      <td>182000.000000</td>\n",
              "      <td>230000.000000</td>\n",
              "    </tr>\n",
              "  </tbody>\n",
              "</table>\n",
              "</div>\n",
              "      <button class=\"colab-df-convert\" onclick=\"convertToInteractive('df-bfd8e2ce-a450-41b8-923d-cbe5f910920a')\"\n",
              "              title=\"Convert this dataframe to an interactive table.\"\n",
              "              style=\"display:none;\">\n",
              "        \n",
              "  <svg xmlns=\"http://www.w3.org/2000/svg\" height=\"24px\"viewBox=\"0 0 24 24\"\n",
              "       width=\"24px\">\n",
              "    <path d=\"M0 0h24v24H0V0z\" fill=\"none\"/>\n",
              "    <path d=\"M18.56 5.44l.94 2.06.94-2.06 2.06-.94-2.06-.94-.94-2.06-.94 2.06-2.06.94zm-11 1L8.5 8.5l.94-2.06 2.06-.94-2.06-.94L8.5 2.5l-.94 2.06-2.06.94zm10 10l.94 2.06.94-2.06 2.06-.94-2.06-.94-.94-2.06-.94 2.06-2.06.94z\"/><path d=\"M17.41 7.96l-1.37-1.37c-.4-.4-.92-.59-1.43-.59-.52 0-1.04.2-1.43.59L10.3 9.45l-7.72 7.72c-.78.78-.78 2.05 0 2.83L4 21.41c.39.39.9.59 1.41.59.51 0 1.02-.2 1.41-.59l7.78-7.78 2.81-2.81c.8-.78.8-2.07 0-2.86zM5.41 20L4 18.59l7.72-7.72 1.47 1.35L5.41 20z\"/>\n",
              "  </svg>\n",
              "      </button>\n",
              "      \n",
              "  <style>\n",
              "    .colab-df-container {\n",
              "      display:flex;\n",
              "      flex-wrap:wrap;\n",
              "      gap: 12px;\n",
              "    }\n",
              "\n",
              "    .colab-df-convert {\n",
              "      background-color: #E8F0FE;\n",
              "      border: none;\n",
              "      border-radius: 50%;\n",
              "      cursor: pointer;\n",
              "      display: none;\n",
              "      fill: #1967D2;\n",
              "      height: 32px;\n",
              "      padding: 0 0 0 0;\n",
              "      width: 32px;\n",
              "    }\n",
              "\n",
              "    .colab-df-convert:hover {\n",
              "      background-color: #E2EBFA;\n",
              "      box-shadow: 0px 1px 2px rgba(60, 64, 67, 0.3), 0px 1px 3px 1px rgba(60, 64, 67, 0.15);\n",
              "      fill: #174EA6;\n",
              "    }\n",
              "\n",
              "    [theme=dark] .colab-df-convert {\n",
              "      background-color: #3B4455;\n",
              "      fill: #D2E3FC;\n",
              "    }\n",
              "\n",
              "    [theme=dark] .colab-df-convert:hover {\n",
              "      background-color: #434B5C;\n",
              "      box-shadow: 0px 1px 3px 1px rgba(0, 0, 0, 0.15);\n",
              "      filter: drop-shadow(0px 1px 2px rgba(0, 0, 0, 0.3));\n",
              "      fill: #FFFFFF;\n",
              "    }\n",
              "  </style>\n",
              "\n",
              "      <script>\n",
              "        const buttonEl =\n",
              "          document.querySelector('#df-bfd8e2ce-a450-41b8-923d-cbe5f910920a button.colab-df-convert');\n",
              "        buttonEl.style.display =\n",
              "          google.colab.kernel.accessAllowed ? 'block' : 'none';\n",
              "\n",
              "        async function convertToInteractive(key) {\n",
              "          const element = document.querySelector('#df-bfd8e2ce-a450-41b8-923d-cbe5f910920a');\n",
              "          const dataTable =\n",
              "            await google.colab.kernel.invokeFunction('convertToInteractive',\n",
              "                                                     [key], {});\n",
              "          if (!dataTable) return;\n",
              "\n",
              "          const docLinkHtml = 'Like what you see? Visit the ' +\n",
              "            '<a target=\"_blank\" href=https://colab.research.google.com/notebooks/data_table.ipynb>data table notebook</a>'\n",
              "            + ' to learn more about interactive tables.';\n",
              "          element.innerHTML = '';\n",
              "          dataTable['output_type'] = 'display_data';\n",
              "          await google.colab.output.renderOutput(dataTable, element);\n",
              "          const docLink = document.createElement('div');\n",
              "          docLink.innerHTML = docLinkHtml;\n",
              "          element.appendChild(docLink);\n",
              "        }\n",
              "      </script>\n",
              "    </div>\n",
              "  </div>\n",
              "  "
            ]
          },
          "metadata": {},
          "execution_count": 16
        }
      ],
      "source": [
        "df.describe()"
      ]
    },
    {
      "cell_type": "markdown",
      "metadata": {
        "id": "GYFLgfE_ZxxO"
      },
      "source": [
        "\"Between the 75th percentile and the maximum, a significant price gap is visible."
      ]
    },
    {
      "cell_type": "markdown",
      "metadata": {
        "id": "_6K7o_hGGjWV"
      },
      "source": [
        "A histogram can be used to visualize the point at which outliers begin."
      ]
    },
    {
      "cell_type": "code",
      "execution_count": null,
      "metadata": {
        "colab": {
          "base_uri": "https://localhost:8080/",
          "height": 282
        },
        "id": "7i_zG8-IaWBR",
        "outputId": "44ebafa8-92c4-42b5-e53c-f98ebb151c89"
      },
      "outputs": [
        {
          "output_type": "execute_result",
          "data": {
            "text/plain": [
              "<matplotlib.axes._subplots.AxesSubplot at 0x7f0ae482f3d0>"
            ]
          },
          "metadata": {},
          "execution_count": 17
        },
        {
          "output_type": "display_data",
          "data": {
            "text/plain": [
              "<Figure size 432x288 with 1 Axes>"
            ],
            "image/png": "[encoded data removed]"
          },
          "metadata": {
            "needs_background": "light"
          }
        }
      ],
      "source": [
        "df['sellingprice'].hist(color='chartreuse')"
      ]
    },
    {
      "cell_type": "markdown",
      "metadata": {
        "id": "zTupqsjshdRX"
      },
      "source": [
        "Cars with a price above approximately $40,000 are sold much less frequently than all others."
      ]
    },
    {
      "cell_type": "markdown",
      "source": [
        "Additionally, I am going to create a box plot."
      ],
      "metadata": {
        "id": "X2Tkm3_aGvRD"
      }
    },
    {
      "cell_type": "code",
      "execution_count": null,
      "metadata": {
        "colab": {
          "base_uri": "https://localhost:8080/",
          "height": 170
        },
        "id": "Grjqux8hiQuv",
        "outputId": "6aca66ee-2372-484d-a94b-2e8c928e499c"
      },
      "outputs": [
        {
          "output_type": "execute_result",
          "data": {
            "text/plain": [
              "<matplotlib.axes._subplots.AxesSubplot at 0x7f0ae3f16d10>"
            ]
          },
          "metadata": {},
          "execution_count": 18
        },
        {
          "output_type": "display_data",
          "data": {
            "text/plain": [
              "<Figure size 1800x144 with 1 Axes>"
            ],
            "image/png": "[encoded data removed]"
          },
          "metadata": {
            "needs_background": "light"
          }
        }
      ],
      "source": [
        "plt.figure(figsize=(25,2))\n",
        "sns.boxplot(x=df['sellingprice'],fliersize=10,color='chartreuse')"
      ]
    },
    {
      "cell_type": "markdown",
      "source": [
        "Outliers begin at prices above $40,000, so I will set a limit at 50,000."
      ],
      "metadata": {
        "id": "1p2onn2VG-rF"
      }
    },
    {
      "cell_type": "markdown",
      "source": [
        "I am going to move on to the analysis of mileage. Let's examine the histogram."
      ],
      "metadata": {
        "id": "6rbCuuqFH5R4"
      }
    },
    {
      "cell_type": "code",
      "execution_count": null,
      "metadata": {
        "id": "zXWBUISqjuCR",
        "colab": {
          "base_uri": "https://localhost:8080/",
          "height": 295
        },
        "outputId": "68a65ed3-66de-45b9-dbc1-cf00b8826221"
      },
      "outputs": [
        {
          "output_type": "execute_result",
          "data": {
            "text/plain": [
              "<matplotlib.axes._subplots.AxesSubplot at 0x7f0ae5d39e90>"
            ]
          },
          "metadata": {},
          "execution_count": 19
        },
        {
          "output_type": "display_data",
          "data": {
            "text/plain": [
              "<Figure size 432x288 with 1 Axes>"
            ],
            "image/png": "[encoded data removed]"
          },
          "metadata": {
            "needs_background": "light"
          }
        }
      ],
      "source": [
        "df['odometer'].hist(color='fuchsia')"
      ]
    },
    {
      "cell_type": "markdown",
      "source": [
        "Let's display a box plot."
      ],
      "metadata": {
        "id": "0Peq61FoFq_K"
      }
    },
    {
      "cell_type": "code",
      "source": [
        "plt.figure(figsize=(25,2))\n",
        "sns.boxplot(x=df['odometer'],fliersize=10,color='fuchsia')"
      ],
      "metadata": {
        "colab": {
          "base_uri": "https://localhost:8080/",
          "height": 170
        },
        "id": "eCegrYfZINzE",
        "outputId": "e6070210-cef7-4798-d149-1cb281df5456"
      },
      "execution_count": null,
      "outputs": [
        {
          "output_type": "execute_result",
          "data": {
            "text/plain": [
              "<matplotlib.axes._subplots.AxesSubplot at 0x7f0ae3972550>"
            ]
          },
          "metadata": {},
          "execution_count": 20
        },
        {
          "output_type": "display_data",
          "data": {
            "text/plain": [
              "<Figure size 1800x144 with 1 Axes>"
            ],
            "image/png": "[encoded data removed]"
          },
          "metadata": {
            "needs_background": "light"
          }
        }
      ]
    },
    {
      "cell_type": "markdown",
      "source": [
        "It is appropriate to set a limit at 300,000 miles."
      ],
      "metadata": {
        "id": "gM3OUp3SJF8M"
      }
    },
    {
      "cell_type": "markdown",
      "source": [
        "Similarly, I will create a histogram for market evaluation."
      ],
      "metadata": {
        "id": "G09La3xNLRQP"
      }
    },
    {
      "cell_type": "code",
      "source": [
        "df['mmr'].hist(color=\"turquoise\")"
      ],
      "metadata": {
        "colab": {
          "base_uri": "https://localhost:8080/",
          "height": 282
        },
        "id": "apboPpdsK8e4",
        "outputId": "4586d549-d346-4661-fa03-006d9c63f38a"
      },
      "execution_count": null,
      "outputs": [
        {
          "output_type": "execute_result",
          "data": {
            "text/plain": [
              "<matplotlib.axes._subplots.AxesSubplot at 0x7f0ae422e390>"
            ]
          },
          "metadata": {},
          "execution_count": 21
        },
        {
          "output_type": "display_data",
          "data": {
            "text/plain": [
              "<Figure size 432x288 with 1 Axes>"
            ],
            "image/png": "[encoded data removed]"
          },
          "metadata": {
            "needs_background": "light"
          }
        }
      ]
    },
    {
      "cell_type": "markdown",
      "source": [
        "Let's display a box plot."
      ],
      "metadata": {
        "id": "Z3FPOz11Ll1o"
      }
    },
    {
      "cell_type": "code",
      "source": [
        "plt.figure(figsize=(25,2))\n",
        "sns.boxplot(x=df['mmr'],fliersize=10,color='turquoise')"
      ],
      "metadata": {
        "colab": {
          "base_uri": "https://localhost:8080/",
          "height": 170
        },
        "id": "igP19HP4Lqv2",
        "outputId": "47c04e97-5d1d-4508-d6b0-5e7715206320"
      },
      "execution_count": null,
      "outputs": [
        {
          "output_type": "execute_result",
          "data": {
            "text/plain": [
              "<matplotlib.axes._subplots.AxesSubplot at 0x7f0ae4836a50>"
            ]
          },
          "metadata": {},
          "execution_count": 22
        },
        {
          "output_type": "display_data",
          "data": {
            "text/plain": [
              "<Figure size 1800x144 with 1 Axes>"
            ],
            "image/png": "[encoded data removed]"
          },
          "metadata": {
            "needs_background": "light"
          }
        }
      ]
    },
    {
      "cell_type": "markdown",
      "source": [
        "Like the selling price, the market evaluation should be limited to $50,000."
      ],
      "metadata": {
        "id": "DJyPvXSmNDoH"
      }
    },
    {
      "cell_type": "code",
      "source": [
        "#удаляю выбросы\n",
        "df_len = len(df)\n",
        "df = df.loc[df['mmr'] <= 50000]\n",
        "df = df.loc[df['odometer'] <= 300000]\n",
        "df = df.loc[df['sellingprice'] <= 50000]\n",
        "df.reset_index(inplace=True, drop=True)\n",
        "(df_len-df.shape[0])/df_len"
      ],
      "metadata": {
        "colab": {
          "base_uri": "https://localhost:8080/"
        },
        "id": "EjdXFgMzbpyu",
        "outputId": "6d9a8145-81f9-445f-b83a-48f272e9c669"
      },
      "execution_count": null,
      "outputs": [
        {
          "output_type": "execute_result",
          "data": {
            "text/plain": [
              "0.007971575638864848"
            ]
          },
          "metadata": {},
          "execution_count": 23
        }
      ]
    },
    {
      "cell_type": "markdown",
      "source": [
        "When converted to percentages, it is evident that 0.8% of the data has been removed."
      ],
      "metadata": {
        "id": "Wsp6ASWgc_1S"
      }
    },
    {
      "cell_type": "code",
      "source": [
        "#outputing statistics for non-numeric features.\n",
        "df.describe(include=['object', 'bool'])"
      ],
      "metadata": {
        "colab": {
          "base_uri": "https://localhost:8080/",
          "height": 175
        },
        "id": "6-pCQpeoc_Uq",
        "outputId": "3f6c5c6e-d851-4794-de3b-63eca7ef6ae3"
      },
      "execution_count": null,
      "outputs": [
        {
          "output_type": "execute_result",
          "data": {
            "text/plain": [
              "       transmission   state   color interior\n",
              "count        479116  479116  479116   479116\n",
              "unique            2      34      20       17\n",
              "top       automatic      fl   black    black\n",
              "freq         462298   76098   93893   211037"
            ],
            "text/html": [
              "\n",
              "  <div id=\"df-9415760d-b1ff-4d6e-9904-9a8082515fec\">\n",
              "    <div class=\"colab-df-container\">\n",
              "      <div>\n",
              "<style scoped>\n",
              "    .dataframe tbody tr th:only-of-type {\n",
              "        vertical-align: middle;\n",
              "    }\n",
              "\n",
              "    .dataframe tbody tr th {\n",
              "        vertical-align: top;\n",
              "    }\n",
              "\n",
              "    .dataframe thead th {\n",
              "        text-align: right;\n",
              "    }\n",
              "</style>\n",
              "<table border=\"1\" class=\"dataframe\">\n",
              "  <thead>\n",
              "    <tr style=\"text-align: right;\">\n",
              "      <th></th>\n",
              "      <th>transmission</th>\n",
              "      <th>state</th>\n",
              "      <th>color</th>\n",
              "      <th>interior</th>\n",
              "    </tr>\n",
              "  </thead>\n",
              "  <tbody>\n",
              "    <tr>\n",
              "      <th>count</th>\n",
              "      <td>479116</td>\n",
              "      <td>479116</td>\n",
              "      <td>479116</td>\n",
              "      <td>479116</td>\n",
              "    </tr>\n",
              "    <tr>\n",
              "      <th>unique</th>\n",
              "      <td>2</td>\n",
              "      <td>34</td>\n",
              "      <td>20</td>\n",
              "      <td>17</td>\n",
              "    </tr>\n",
              "    <tr>\n",
              "      <th>top</th>\n",
              "      <td>automatic</td>\n",
              "      <td>fl</td>\n",
              "      <td>black</td>\n",
              "      <td>black</td>\n",
              "    </tr>\n",
              "    <tr>\n",
              "      <th>freq</th>\n",
              "      <td>462298</td>\n",
              "      <td>76098</td>\n",
              "      <td>93893</td>\n",
              "      <td>211037</td>\n",
              "    </tr>\n",
              "  </tbody>\n",
              "</table>\n",
              "</div>\n",
              "      <button class=\"colab-df-convert\" onclick=\"convertToInteractive('df-9415760d-b1ff-4d6e-9904-9a8082515fec')\"\n",
              "              title=\"Convert this dataframe to an interactive table.\"\n",
              "              style=\"display:none;\">\n",
              "        \n",
              "  <svg xmlns=\"http://www.w3.org/2000/svg\" height=\"24px\"viewBox=\"0 0 24 24\"\n",
              "       width=\"24px\">\n",
              "    <path d=\"M0 0h24v24H0V0z\" fill=\"none\"/>\n",
              "    <path d=\"M18.56 5.44l.94 2.06.94-2.06 2.06-.94-2.06-.94-.94-2.06-.94 2.06-2.06.94zm-11 1L8.5 8.5l.94-2.06 2.06-.94-2.06-.94L8.5 2.5l-.94 2.06-2.06.94zm10 10l.94 2.06.94-2.06 2.06-.94-2.06-.94-.94-2.06-.94 2.06-2.06.94z\"/><path d=\"M17.41 7.96l-1.37-1.37c-.4-.4-.92-.59-1.43-.59-.52 0-1.04.2-1.43.59L10.3 9.45l-7.72 7.72c-.78.78-.78 2.05 0 2.83L4 21.41c.39.39.9.59 1.41.59.51 0 1.02-.2 1.41-.59l7.78-7.78 2.81-2.81c.8-.78.8-2.07 0-2.86zM5.41 20L4 18.59l7.72-7.72 1.47 1.35L5.41 20z\"/>\n",
              "  </svg>\n",
              "      </button>\n",
              "      \n",
              "  <style>\n",
              "    .colab-df-container {\n",
              "      display:flex;\n",
              "      flex-wrap:wrap;\n",
              "      gap: 12px;\n",
              "    }\n",
              "\n",
              "    .colab-df-convert {\n",
              "      background-color: #E8F0FE;\n",
              "      border: none;\n",
              "      border-radius: 50%;\n",
              "      cursor: pointer;\n",
              "      display: none;\n",
              "      fill: #1967D2;\n",
              "      height: 32px;\n",
              "      padding: 0 0 0 0;\n",
              "      width: 32px;\n",
              "    }\n",
              "\n",
              "    .colab-df-convert:hover {\n",
              "      background-color: #E2EBFA;\n",
              "      box-shadow: 0px 1px 2px rgba(60, 64, 67, 0.3), 0px 1px 3px 1px rgba(60, 64, 67, 0.15);\n",
              "      fill: #174EA6;\n",
              "    }\n",
              "\n",
              "    [theme=dark] .colab-df-convert {\n",
              "      background-color: #3B4455;\n",
              "      fill: #D2E3FC;\n",
              "    }\n",
              "\n",
              "    [theme=dark] .colab-df-convert:hover {\n",
              "      background-color: #434B5C;\n",
              "      box-shadow: 0px 1px 3px 1px rgba(0, 0, 0, 0.15);\n",
              "      filter: drop-shadow(0px 1px 2px rgba(0, 0, 0, 0.3));\n",
              "      fill: #FFFFFF;\n",
              "    }\n",
              "  </style>\n",
              "\n",
              "      <script>\n",
              "        const buttonEl =\n",
              "          document.querySelector('#df-9415760d-b1ff-4d6e-9904-9a8082515fec button.colab-df-convert');\n",
              "        buttonEl.style.display =\n",
              "          google.colab.kernel.accessAllowed ? 'block' : 'none';\n",
              "\n",
              "        async function convertToInteractive(key) {\n",
              "          const element = document.querySelector('#df-9415760d-b1ff-4d6e-9904-9a8082515fec');\n",
              "          const dataTable =\n",
              "            await google.colab.kernel.invokeFunction('convertToInteractive',\n",
              "                                                     [key], {});\n",
              "          if (!dataTable) return;\n",
              "\n",
              "          const docLinkHtml = 'Like what you see? Visit the ' +\n",
              "            '<a target=\"_blank\" href=https://colab.research.google.com/notebooks/data_table.ipynb>data table notebook</a>'\n",
              "            + ' to learn more about interactive tables.';\n",
              "          element.innerHTML = '';\n",
              "          dataTable['output_type'] = 'display_data';\n",
              "          await google.colab.output.renderOutput(dataTable, element);\n",
              "          const docLink = document.createElement('div');\n",
              "          docLink.innerHTML = docLinkHtml;\n",
              "          element.appendChild(docLink);\n",
              "        }\n",
              "      </script>\n",
              "    </div>\n",
              "  </div>\n",
              "  "
            ]
          },
          "metadata": {},
          "execution_count": 24
        }
      ]
    },
    {
      "cell_type": "code",
      "source": [
        "df.transmission.value_counts()"
      ],
      "metadata": {
        "colab": {
          "base_uri": "https://localhost:8080/"
        },
        "id": "xEZjisTibsy9",
        "outputId": "5638ac6c-6071-4c13-8ec7-93e4d96c57c0"
      },
      "execution_count": null,
      "outputs": [
        {
          "output_type": "execute_result",
          "data": {
            "text/plain": [
              "automatic    462298\n",
              "manual        16818\n",
              "Name: transmission, dtype: int64"
            ]
          },
          "metadata": {},
          "execution_count": 25
        }
      ]
    },
    {
      "cell_type": "markdown",
      "source": [
        "I am going to create a graph with the number of values in the categories - manual and automatic transmission."
      ],
      "metadata": {
        "id": "oVUrxYapeft4"
      }
    },
    {
      "cell_type": "code",
      "source": [
        "fig=plt.figure()\n",
        "sns.countplot(x=df['transmission'], palette = \"Set1\")"
      ],
      "metadata": {
        "colab": {
          "base_uri": "https://localhost:8080/",
          "height": 296
        },
        "id": "YwJvz_V1fG2d",
        "outputId": "c6a535ca-051e-4ec3-dd9f-bb83b8cf69f8"
      },
      "execution_count": null,
      "outputs": [
        {
          "output_type": "execute_result",
          "data": {
            "text/plain": [
              "<matplotlib.axes._subplots.AxesSubplot at 0x7f0ae4530410>"
            ]
          },
          "metadata": {},
          "execution_count": 26
        },
        {
          "output_type": "display_data",
          "data": {
            "text/plain": [
              "<Figure size 432x288 with 1 Axes>"
            ],
            "image/png": "[encoded data removed]"
          },
          "metadata": {
            "needs_background": "light"
          }
        }
      ]
    },
    {
      "cell_type": "markdown",
      "source": [
        "It may seem that there are fewer cars with manual transmission, but it is not necessary to be an expert to know that the transmission type predictably affects the price, so I will not remove this feature for now.\n"
      ],
      "metadata": {
        "id": "yyQGp3f7hk4U"
      }
    },
    {
      "cell_type": "markdown",
      "source": [
        "I am going to analyze sales by state."
      ],
      "metadata": {
        "id": "cOoFNiyeibRo"
      }
    },
    {
      "cell_type": "code",
      "source": [
        "df.state.value_counts()"
      ],
      "metadata": {
        "colab": {
          "base_uri": "https://localhost:8080/"
        },
        "id": "KhDbql-RiEkx",
        "outputId": "12ed0e69-8cb4-4377-bb46-d71833391ad0"
      },
      "execution_count": null,
      "outputs": [
        {
          "output_type": "execute_result",
          "data": {
            "text/plain": [
              "fl    76098\n",
              "ca    66896\n",
              "tx    42225\n",
              "ga    31441\n",
              "pa    24502\n",
              "nj    23224\n",
              "il    21745\n",
              "oh    20387\n",
              "tn    19293\n",
              "nc    19272\n",
              "mo    15518\n",
              "mi    14396\n",
              "nv    11819\n",
              "md    10113\n",
              "va     9732\n",
              "wi     9319\n",
              "mn     8760\n",
              "az     7778\n",
              "wa     7182\n",
              "ma     6382\n",
              "co     6346\n",
              "ny     4844\n",
              "in     3925\n",
              "sc     3857\n",
              "ne     3743\n",
              "pr     2487\n",
              "la     1778\n",
              "ut     1762\n",
              "ms     1755\n",
              "hi     1225\n",
              "or     1061\n",
              "nm      168\n",
              "ok       57\n",
              "al       26\n",
              "Name: state, dtype: int64"
            ]
          },
          "metadata": {},
          "execution_count": 27
        }
      ]
    },
    {
      "cell_type": "code",
      "source": [
        "fig=plt.figure(figsize=(15, 10))\n",
        "sns.countplot(x=df['state'])"
      ],
      "metadata": {
        "colab": {
          "base_uri": "https://localhost:8080/",
          "height": 623
        },
        "id": "adjZ1qkAi2-H",
        "outputId": "ea65db5e-0ea9-401b-af22-9ea3726556d1"
      },
      "execution_count": null,
      "outputs": [
        {
          "output_type": "execute_result",
          "data": {
            "text/plain": [
              "<matplotlib.axes._subplots.AxesSubplot at 0x7f0ae4dfe6d0>"
            ]
          },
          "metadata": {},
          "execution_count": 28
        },
        {
          "output_type": "display_data",
          "data": {
            "text/plain": [
              "<Figure size 1080x720 with 1 Axes>"
            ],
            "image/png": "[encoded data removed]"
          },
          "metadata": {
            "needs_background": "light"
          }
        }
      ]
    },
    {
      "cell_type": "markdown",
      "source": [
        "On the graph, it is evident that in some states, the market is not well-established, with very few sales."
      ],
      "metadata": {
        "id": "8phnk1xUAO4h"
      }
    },
    {
      "cell_type": "code",
      "source": [
        "#excluding states with low sales\n",
        "threshold = df.state.value_counts().mean()\n",
        "value_counts = df['state'].value_counts()\n",
        "to_remove = value_counts[value_counts<=threshold].index\n",
        "df['state'].replace(to_remove, np.nan, inplace=True)\n"
      ],
      "metadata": {
        "id": "SapW9ZIAj76z"
      },
      "execution_count": null,
      "outputs": []
    },
    {
      "cell_type": "code",
      "source": [
        "df = df.dropna()"
      ],
      "metadata": {
        "id": "iBODLJ6uY1Ky"
      },
      "execution_count": null,
      "outputs": []
    },
    {
      "cell_type": "code",
      "source": [
        "#number of rows and columns\n",
        "df.shape"
      ],
      "metadata": {
        "colab": {
          "base_uri": "https://localhost:8080/"
        },
        "id": "HbbtU76XhS3W",
        "outputId": "cca15f3a-afc4-4733-a111-633de9cc293f"
      },
      "execution_count": null,
      "outputs": [
        {
          "output_type": "execute_result",
          "data": {
            "text/plain": [
              "(378374, 8)"
            ]
          },
          "metadata": {},
          "execution_count": 30
        }
      ]
    },
    {
      "cell_type": "markdown",
      "source": [
        "Изучу продажи в разрезе цвета кузова."
      ],
      "metadata": {
        "id": "fwirl3cVmhMi"
      }
    },
    {
      "cell_type": "code",
      "source": [
        "df.color.value_counts()"
      ],
      "metadata": {
        "colab": {
          "base_uri": "https://localhost:8080/"
        },
        "id": "Dd0H5kV8mmU0",
        "outputId": "293443fc-0978-4949-ea3d-7c561ed6fd31"
      },
      "execution_count": null,
      "outputs": [
        {
          "output_type": "execute_result",
          "data": {
            "text/plain": [
              "black        75005\n",
              "white        71610\n",
              "gray         55810\n",
              "silver       55043\n",
              "blue         33482\n",
              "red          29857\n",
              "—            19426\n",
              "gold          7609\n",
              "green         7069\n",
              "beige         5566\n",
              "burgundy      5527\n",
              "brown         4315\n",
              "orange        1369\n",
              "purple        1003\n",
              "off-white      937\n",
              "yellow         834\n",
              "charcoal       362\n",
              "turquoise      138\n",
              "pink            27\n",
              "lime             8\n",
              "Name: color, dtype: int64"
            ]
          },
          "metadata": {},
          "execution_count": 31
        }
      ]
    },
    {
      "cell_type": "code",
      "source": [
        "fig=plt.figure(figsize=(15, 10))\n",
        "sns.countplot(x=df['color'])"
      ],
      "metadata": {
        "colab": {
          "base_uri": "https://localhost:8080/",
          "height": 623
        },
        "id": "GaAAaHRdqSdf",
        "outputId": "4d759842-1598-40e3-925c-0d773f6e337a"
      },
      "execution_count": null,
      "outputs": [
        {
          "output_type": "execute_result",
          "data": {
            "text/plain": [
              "<matplotlib.axes._subplots.AxesSubplot at 0x7f0ae5714e10>"
            ]
          },
          "metadata": {},
          "execution_count": 32
        },
        {
          "output_type": "display_data",
          "data": {
            "text/plain": [
              "<Figure size 1080x720 with 1 Axes>"
            ],
            "image/png": "[encoded data removed]"
          },
          "metadata": {
            "needs_background": "light"
          }
        }
      ]
    },
    {
      "cell_type": "markdown",
      "source": [
        "In the US market, rare car colors are encountered, but due to this rarity, there is not enough historical sales data to judge how exactly a rare color affects sales."
      ],
      "metadata": {
        "id": "k4UXdI7KAt9X"
      }
    },
    {
      "cell_type": "code",
      "source": [
        "#исключу машины с редкими цветами кузова\n",
        "threshold = df.color.value_counts().mean()\n",
        "value_counts = df['color'].value_counts()\n",
        "to_remove = value_counts[value_counts<=threshold].index\n",
        "df['color'].replace(to_remove, np.nan, inplace=True)"
      ],
      "metadata": {
        "id": "dTH2OnaPqfDn"
      },
      "execution_count": null,
      "outputs": []
    },
    {
      "cell_type": "code",
      "source": [
        "df = df.dropna()"
      ],
      "metadata": {
        "id": "Ua16bvwiqwWE"
      },
      "execution_count": null,
      "outputs": []
    },
    {
      "cell_type": "code",
      "source": [
        "df.color.value_counts()"
      ],
      "metadata": {
        "colab": {
          "base_uri": "https://localhost:8080/"
        },
        "id": "uCh96OYfrx_l",
        "outputId": "8698705d-04cd-40a3-ec00-0b692880d580"
      },
      "execution_count": null,
      "outputs": [
        {
          "output_type": "execute_result",
          "data": {
            "text/plain": [
              "black     75005\n",
              "white     71610\n",
              "gray      55810\n",
              "silver    55043\n",
              "blue      33482\n",
              "red       29857\n",
              "—         19426\n",
              "Name: color, dtype: int64"
            ]
          },
          "metadata": {},
          "execution_count": 35
        }
      ]
    },
    {
      "cell_type": "code",
      "source": [
        "#deleting rows without body color specified as it does not carry much information\n",
        "df = df.loc[df.color != '—']"
      ],
      "metadata": {
        "id": "TfkPQPysuOw3"
      },
      "execution_count": null,
      "outputs": []
    },
    {
      "cell_type": "code",
      "source": [
        "df.shape"
      ],
      "metadata": {
        "colab": {
          "base_uri": "https://localhost:8080/"
        },
        "id": "uupl0jOtu9qO",
        "outputId": "0abdf4f2-a8c7-4fda-e551-2c9ddbe1d732"
      },
      "execution_count": null,
      "outputs": [
        {
          "output_type": "execute_result",
          "data": {
            "text/plain": [
              "(320807, 8)"
            ]
          },
          "metadata": {},
          "execution_count": 37
        }
      ]
    },
    {
      "cell_type": "markdown",
      "source": [
        "I am going to examine sales based on the interior color."
      ],
      "metadata": {
        "id": "hSK7fUM0vQ3n"
      }
    },
    {
      "cell_type": "code",
      "source": [
        "df['interior'].value_counts()"
      ],
      "metadata": {
        "colab": {
          "base_uri": "https://localhost:8080/"
        },
        "id": "cwznpBJsxF5W",
        "outputId": "0e008fc1-b604-42af-cd00-b202dc57442e"
      },
      "execution_count": null,
      "outputs": [
        {
          "output_type": "execute_result",
          "data": {
            "text/plain": [
              "black        148084\n",
              "gray         106247\n",
              "beige         30706\n",
              "tan           20963\n",
              "—              7171\n",
              "brown          4253\n",
              "silver          911\n",
              "red             833\n",
              "blue            703\n",
              "purple          199\n",
              "off-white       196\n",
              "white           139\n",
              "green           117\n",
              "gold            115\n",
              "burgundy        104\n",
              "orange           62\n",
              "yellow            4\n",
              "Name: interior, dtype: int64"
            ]
          },
          "metadata": {},
          "execution_count": 38
        }
      ]
    },
    {
      "cell_type": "code",
      "source": [
        "fig=plt.figure(figsize=(15, 10))\n",
        "sns.countplot(x=df['interior'])"
      ],
      "metadata": {
        "colab": {
          "base_uri": "https://localhost:8080/",
          "height": 623
        },
        "id": "1tAl7r6xxTx-",
        "outputId": "e864717d-3e42-4d58-f9a5-f330b0d638f0"
      },
      "execution_count": null,
      "outputs": [
        {
          "output_type": "execute_result",
          "data": {
            "text/plain": [
              "<matplotlib.axes._subplots.AxesSubplot at 0x7f0ae3c616d0>"
            ]
          },
          "metadata": {},
          "execution_count": 39
        },
        {
          "output_type": "display_data",
          "data": {
            "text/plain": [
              "<Figure size 1080x720 with 1 Axes>"
            ],
            "image/png": "[encoded data removed]"
          },
          "metadata": {
            "needs_background": "light"
          }
        }
      ]
    },
    {
      "cell_type": "markdown",
      "source": [
        "There is very little data on sales of rarely occurring interior colors compared to classics like black, beige, and gray."
      ],
      "metadata": {
        "id": "DgTEwZTWCPrz"
      }
    },
    {
      "cell_type": "code",
      "source": [
        "#excluding rarely occurring interior colors\n",
        "threshold = df.interior.value_counts().mean()\n",
        "value_counts = df['interior'].value_counts()\n",
        "to_remove = value_counts[value_counts<=threshold].index\n",
        "df['interior'].replace(to_remove, np.nan, inplace=True)"
      ],
      "metadata": {
        "id": "9liYP5VDxtct"
      },
      "execution_count": null,
      "outputs": []
    },
    {
      "cell_type": "code",
      "source": [
        "df = df.dropna()"
      ],
      "metadata": {
        "id": "qbb4yaabyBco"
      },
      "execution_count": null,
      "outputs": []
    },
    {
      "cell_type": "code",
      "source": [
        "df.shape"
      ],
      "metadata": {
        "colab": {
          "base_uri": "https://localhost:8080/"
        },
        "id": "ZYN8ORwoyD-E",
        "outputId": "367e5ebb-cf0d-4ac6-b8f9-ed1a3d9500e5"
      },
      "execution_count": null,
      "outputs": [
        {
          "output_type": "execute_result",
          "data": {
            "text/plain": [
              "(306000, 8)"
            ]
          },
          "metadata": {},
          "execution_count": 42
        }
      ]
    },
    {
      "cell_type": "code",
      "source": [
        "df.reset_index(inplace=True, drop=True)"
      ],
      "metadata": {
        "id": "-m9L9SnryIg9"
      },
      "execution_count": null,
      "outputs": []
    },
    {
      "cell_type": "code",
      "source": [
        "df.nunique(axis=0)"
      ],
      "metadata": {
        "colab": {
          "base_uri": "https://localhost:8080/"
        },
        "id": "TIn1t7BZyOMe",
        "outputId": "5e1e2062-be1c-465c-ce14-ce53b6080363"
      },
      "execution_count": null,
      "outputs": [
        {
          "output_type": "execute_result",
          "data": {
            "text/plain": [
              "transmission         2\n",
              "state               12\n",
              "condition           41\n",
              "odometer        133456\n",
              "color                6\n",
              "interior             4\n",
              "mmr                900\n",
              "sellingprice      1237\n",
              "dtype: int64"
            ]
          },
          "metadata": {},
          "execution_count": 44
        }
      ]
    },
    {
      "cell_type": "markdown",
      "source": [
        "Let's create a heatmap."
      ],
      "metadata": {
        "id": "mYsKOiW9yWEu"
      }
    },
    {
      "cell_type": "code",
      "source": [
        "plt.figure(figsize=(5, 10))\n",
        "sns.heatmap(df.corr()[['sellingprice']], cmap=\"Spectral\", vmin=-1, vmax=1, annot=True);"
      ],
      "metadata": {
        "colab": {
          "base_uri": "https://localhost:8080/",
          "height": 596
        },
        "id": "sIQCaUATyVH9",
        "outputId": "82ca0cc1-e20c-4994-8c14-2861ed70d9d8"
      },
      "execution_count": null,
      "outputs": [
        {
          "output_type": "display_data",
          "data": {
            "text/plain": [
              "<Figure size 360x720 with 2 Axes>"
            ],
            "image/png": "[encoded data removed]"
          },
          "metadata": {
            "needs_background": "light"
          }
        }
      ]
    },
    {
      "cell_type": "markdown",
      "source": [
        "It is visually evident that the good condition of the car is directly proportional to the price, while the mileage is inversely proportional to the price."
      ],
      "metadata": {
        "id": "M6J6izUO_cJR"
      }
    },
    {
      "cell_type": "code",
      "source": [
        "#correlation\n",
        "sns.set_style('white')\n",
        "plt.figure(figsize = (12,10))\n",
        "matrix = np.triu(df.corr())\n",
        "sns.heatmap(df.corr(),annot = True, fmt='.2g', mask=matrix, vmin=-1,\n",
        "            vmax=1, center= 0, cmap= 'viridis', cbar=False)"
      ],
      "metadata": {
        "colab": {
          "base_uri": "https://localhost:8080/",
          "height": 609
        },
        "id": "uQtXlVymBRnw",
        "outputId": "1417a616-2914-4d1f-ee47-241aa96a2c9f"
      },
      "execution_count": null,
      "outputs": [
        {
          "output_type": "execute_result",
          "data": {
            "text/plain": [
              "<matplotlib.axes._subplots.AxesSubplot at 0x7f0ae572da50>"
            ]
          },
          "metadata": {},
          "execution_count": 46
        },
        {
          "output_type": "display_data",
          "data": {
            "text/plain": [
              "<Figure size 864x720 with 1 Axes>"
            ],
            "image/png": "[encoded data removed]"
          },
          "metadata": {}
        }
      ]
    },
    {
      "cell_type": "markdown",
      "source": [
        "The condition of the car has a slightly greater impact on the selling price than on the evaluation price."
      ],
      "metadata": {
        "id": "LTAZIsn_D5nQ"
      }
    },
    {
      "cell_type": "markdown",
      "source": [
        "#Data preparation for Machine Learning (ML)\n"
      ],
      "metadata": {
        "id": "_Vm8DddoFEQI"
      }
    },
    {
      "cell_type": "code",
      "source": [
        "#spliting the data into X and Y\n",
        "X = df.drop(columns='sellingprice')\n",
        "X['transmission'] = X['transmission'].map({'automatic':1, 'manual':0})\n",
        "X = pd.get_dummies(X)\n",
        "y = df['sellingprice']\n",
        "\n",
        "X.sample(2)"
      ],
      "metadata": {
        "colab": {
          "base_uri": "https://localhost:8080/",
          "height": 176
        },
        "id": "prnAeVIaFWQm",
        "outputId": "c56ae909-7897-4151-973c-77912a97909f"
      },
      "execution_count": null,
      "outputs": [
        {
          "output_type": "execute_result",
          "data": {
            "text/plain": [
              "        transmission  condition  odometer    mmr  state_ca  state_fl  \\\n",
              "11671              1        4.2   15854.0  16900         0         0   \n",
              "112426             1        3.0   51414.0   9375         0         0   \n",
              "\n",
              "        state_ga  state_il  state_mi  state_mo  state_nc  state_nj  state_oh  \\\n",
              "11671          0         0         0         0         0         0         0   \n",
              "112426         0         0         0         0         0         0         0   \n",
              "\n",
              "        state_pa  state_tn  state_tx  color_black  color_blue  color_gray  \\\n",
              "11671          0         1         0            0           0           0   \n",
              "112426         0         1         0            0           0           0   \n",
              "\n",
              "        color_red  color_silver  color_white  interior_beige  interior_black  \\\n",
              "11671           0             0            1               0               1   \n",
              "112426          0             1            0               0               1   \n",
              "\n",
              "        interior_gray  interior_tan  \n",
              "11671               0             0  \n",
              "112426              0             0  "
            ],
            "text/html": [
              "\n",
              "  <div id=\"df-6ca392ad-8689-44ae-827f-847c41802c97\">\n",
              "    <div class=\"colab-df-container\">\n",
              "      <div>\n",
              "<style scoped>\n",
              "    .dataframe tbody tr th:only-of-type {\n",
              "        vertical-align: middle;\n",
              "    }\n",
              "\n",
              "    .dataframe tbody tr th {\n",
              "        vertical-align: top;\n",
              "    }\n",
              "\n",
              "    .dataframe thead th {\n",
              "        text-align: right;\n",
              "    }\n",
              "</style>\n",
              "<table border=\"1\" class=\"dataframe\">\n",
              "  <thead>\n",
              "    <tr style=\"text-align: right;\">\n",
              "      <th></th>\n",
              "      <th>transmission</th>\n",
              "      <th>condition</th>\n",
              "      <th>odometer</th>\n",
              "      <th>mmr</th>\n",
              "      <th>state_ca</th>\n",
              "      <th>state_fl</th>\n",
              "      <th>state_ga</th>\n",
              "      <th>state_il</th>\n",
              "      <th>state_mi</th>\n",
              "      <th>state_mo</th>\n",
              "      <th>state_nc</th>\n",
              "      <th>state_nj</th>\n",
              "      <th>state_oh</th>\n",
              "      <th>state_pa</th>\n",
              "      <th>state_tn</th>\n",
              "      <th>state_tx</th>\n",
              "      <th>color_black</th>\n",
              "      <th>color_blue</th>\n",
              "      <th>color_gray</th>\n",
              "      <th>color_red</th>\n",
              "      <th>color_silver</th>\n",
              "      <th>color_white</th>\n",
              "      <th>interior_beige</th>\n",
              "      <th>interior_black</th>\n",
              "      <th>interior_gray</th>\n",
              "      <th>interior_tan</th>\n",
              "    </tr>\n",
              "  </thead>\n",
              "  <tbody>\n",
              "    <tr>\n",
              "      <th>11671</th>\n",
              "      <td>1</td>\n",
              "      <td>4.2</td>\n",
              "      <td>15854.0</td>\n",
              "      <td>16900</td>\n",
              "      <td>0</td>\n",
              "      <td>0</td>\n",
              "      <td>0</td>\n",
              "      <td>0</td>\n",
              "      <td>0</td>\n",
              "      <td>0</td>\n",
              "      <td>0</td>\n",
              "      <td>0</td>\n",
              "      <td>0</td>\n",
              "      <td>0</td>\n",
              "      <td>1</td>\n",
              "      <td>0</td>\n",
              "      <td>0</td>\n",
              "      <td>0</td>\n",
              "      <td>0</td>\n",
              "      <td>0</td>\n",
              "      <td>0</td>\n",
              "      <td>1</td>\n",
              "      <td>0</td>\n",
              "      <td>1</td>\n",
              "      <td>0</td>\n",
              "      <td>0</td>\n",
              "    </tr>\n",
              "    <tr>\n",
              "      <th>112426</th>\n",
              "      <td>1</td>\n",
              "      <td>3.0</td>\n",
              "      <td>51414.0</td>\n",
              "      <td>9375</td>\n",
              "      <td>0</td>\n",
              "      <td>0</td>\n",
              "      <td>0</td>\n",
              "      <td>0</td>\n",
              "      <td>0</td>\n",
              "      <td>0</td>\n",
              "      <td>0</td>\n",
              "      <td>0</td>\n",
              "      <td>0</td>\n",
              "      <td>0</td>\n",
              "      <td>1</td>\n",
              "      <td>0</td>\n",
              "      <td>0</td>\n",
              "      <td>0</td>\n",
              "      <td>0</td>\n",
              "      <td>0</td>\n",
              "      <td>1</td>\n",
              "      <td>0</td>\n",
              "      <td>0</td>\n",
              "      <td>1</td>\n",
              "      <td>0</td>\n",
              "      <td>0</td>\n",
              "    </tr>\n",
              "  </tbody>\n",
              "</table>\n",
              "</div>\n",
              "      <button class=\"colab-df-convert\" onclick=\"convertToInteractive('df-6ca392ad-8689-44ae-827f-847c41802c97')\"\n",
              "              title=\"Convert this dataframe to an interactive table.\"\n",
              "              style=\"display:none;\">\n",
              "        \n",
              "  <svg xmlns=\"http://www.w3.org/2000/svg\" height=\"24px\"viewBox=\"0 0 24 24\"\n",
              "       width=\"24px\">\n",
              "    <path d=\"M0 0h24v24H0V0z\" fill=\"none\"/>\n",
              "    <path d=\"M18.56 5.44l.94 2.06.94-2.06 2.06-.94-2.06-.94-.94-2.06-.94 2.06-2.06.94zm-11 1L8.5 8.5l.94-2.06 2.06-.94-2.06-.94L8.5 2.5l-.94 2.06-2.06.94zm10 10l.94 2.06.94-2.06 2.06-.94-2.06-.94-.94-2.06-.94 2.06-2.06.94z\"/><path d=\"M17.41 7.96l-1.37-1.37c-.4-.4-.92-.59-1.43-.59-.52 0-1.04.2-1.43.59L10.3 9.45l-7.72 7.72c-.78.78-.78 2.05 0 2.83L4 21.41c.39.39.9.59 1.41.59.51 0 1.02-.2 1.41-.59l7.78-7.78 2.81-2.81c.8-.78.8-2.07 0-2.86zM5.41 20L4 18.59l7.72-7.72 1.47 1.35L5.41 20z\"/>\n",
              "  </svg>\n",
              "      </button>\n",
              "      \n",
              "  <style>\n",
              "    .colab-df-container {\n",
              "      display:flex;\n",
              "      flex-wrap:wrap;\n",
              "      gap: 12px;\n",
              "    }\n",
              "\n",
              "    .colab-df-convert {\n",
              "      background-color: #E8F0FE;\n",
              "      border: none;\n",
              "      border-radius: 50%;\n",
              "      cursor: pointer;\n",
              "      display: none;\n",
              "      fill: #1967D2;\n",
              "      height: 32px;\n",
              "      padding: 0 0 0 0;\n",
              "      width: 32px;\n",
              "    }\n",
              "\n",
              "    .colab-df-convert:hover {\n",
              "      background-color: #E2EBFA;\n",
              "      box-shadow: 0px 1px 2px rgba(60, 64, 67, 0.3), 0px 1px 3px 1px rgba(60, 64, 67, 0.15);\n",
              "      fill: #174EA6;\n",
              "    }\n",
              "\n",
              "    [theme=dark] .colab-df-convert {\n",
              "      background-color: #3B4455;\n",
              "      fill: #D2E3FC;\n",
              "    }\n",
              "\n",
              "    [theme=dark] .colab-df-convert:hover {\n",
              "      background-color: #434B5C;\n",
              "      box-shadow: 0px 1px 3px 1px rgba(0, 0, 0, 0.15);\n",
              "      filter: drop-shadow(0px 1px 2px rgba(0, 0, 0, 0.3));\n",
              "      fill: #FFFFFF;\n",
              "    }\n",
              "  </style>\n",
              "\n",
              "      <script>\n",
              "        const buttonEl =\n",
              "          document.querySelector('#df-6ca392ad-8689-44ae-827f-847c41802c97 button.colab-df-convert');\n",
              "        buttonEl.style.display =\n",
              "          google.colab.kernel.accessAllowed ? 'block' : 'none';\n",
              "\n",
              "        async function convertToInteractive(key) {\n",
              "          const element = document.querySelector('#df-6ca392ad-8689-44ae-827f-847c41802c97');\n",
              "          const dataTable =\n",
              "            await google.colab.kernel.invokeFunction('convertToInteractive',\n",
              "                                                     [key], {});\n",
              "          if (!dataTable) return;\n",
              "\n",
              "          const docLinkHtml = 'Like what you see? Visit the ' +\n",
              "            '<a target=\"_blank\" href=https://colab.research.google.com/notebooks/data_table.ipynb>data table notebook</a>'\n",
              "            + ' to learn more about interactive tables.';\n",
              "          element.innerHTML = '';\n",
              "          dataTable['output_type'] = 'display_data';\n",
              "          await google.colab.output.renderOutput(dataTable, element);\n",
              "          const docLink = document.createElement('div');\n",
              "          docLink.innerHTML = docLinkHtml;\n",
              "          element.appendChild(docLink);\n",
              "        }\n",
              "      </script>\n",
              "    </div>\n",
              "  </div>\n",
              "  "
            ]
          },
          "metadata": {},
          "execution_count": 47
        }
      ]
    },
    {
      "cell_type": "code",
      "source": [
        "from sklearn.model_selection import train_test_split\n",
        "\n",
        "sample_X, sample_y = X.head(), y.head()\n",
        "X_train, X_test, y_train, y_test = train_test_split(\n",
        "    X.drop(labels=range(5)),\n",
        "    y.drop(labels=range(5)), test_size = 0.2,\n",
        "    random_state = 1)\n",
        "\n",
        "\n",
        "print(X_train.shape)\n",
        "print(X_test.shape)"
      ],
      "metadata": {
        "colab": {
          "base_uri": "https://localhost:8080/"
        },
        "id": "kgclcLUMLi-F",
        "outputId": "86edcf82-c771-4c01-847e-bce8492154bc"
      },
      "execution_count": null,
      "outputs": [
        {
          "output_type": "stream",
          "name": "stdout",
          "text": [
            "(244796, 26)\n",
            "(61199, 26)\n"
          ]
        }
      ]
    },
    {
      "cell_type": "code",
      "source": [
        "plt.style.use('ggplot')\n",
        "X_train.hist(bins = 50, figsize = (12,15))\n",
        "plt.show()"
      ],
      "metadata": {
        "colab": {
          "base_uri": "https://localhost:8080/",
          "height": 880
        },
        "id": "OkrXErdoLwEd",
        "outputId": "904194ba-f2fa-4def-c762-36da4d1b01cd"
      },
      "execution_count": null,
      "outputs": [
        {
          "output_type": "display_data",
          "data": {
            "text/plain": [
              "<Figure size 864x1080 with 30 Axes>"
            ],
            "image/png": "[encoded data removed]"
          },
          "metadata": {}
        }
      ]
    },
    {
      "cell_type": "markdown",
      "source": [
        "The distribution of the evaluation price is close to a normal distribution."
      ],
      "metadata": {
        "id": "TYHHFag8DA9P"
      }
    },
    {
      "cell_type": "markdown",
      "source": [
        "#Sklearn. Linear Regression."
      ],
      "metadata": {
        "id": "ZAvHHWiMTEua"
      }
    },
    {
      "cell_type": "code",
      "source": [
        "from sklearn.linear_model import LinearRegression\n",
        "from sklearn.model_selection import cross_val_score\n",
        "from sklearn.metrics import mean_squared_log_error,mean_squared_error, r2_score,mean_absolute_error"
      ],
      "metadata": {
        "id": "7UtGD3iVTNYC"
      },
      "execution_count": null,
      "outputs": []
    },
    {
      "cell_type": "code",
      "source": [
        "reg = LinearRegression()\n",
        "reg.fit(X_train, y_train) #fitting the model to the data\n",
        "lin_y_pred=reg.predict(X_test) #price forecast for X_test"
      ],
      "metadata": {
        "id": "qdOXrobiThGs"
      },
      "execution_count": null,
      "outputs": []
    },
    {
      "cell_type": "code",
      "source": [
        "print ('Accuracy of linear regression:')\n",
        "crossl = cross_val_score(estimator = reg, X = X_train, y = y_train, cv = 4,verbose = 0)\n",
        "msel = mean_squared_error(y_test, lin_y_pred)\n",
        "rmsel = mean_squared_error(y_test, lin_y_pred)**0.5\n",
        "mael = mean_absolute_error(y_test, lin_y_pred)\n",
        "r2l = r2_score(y_test, lin_y_pred)\n",
        "print('Cross val     : ',crossl)\n",
        "print('R2            : ', r2l)\n",
        "print('MAE           : ', mael)\n",
        "print('MSE (RMSE)    : ', msel,' (',rmsel,')')"
      ],
      "metadata": {
        "colab": {
          "base_uri": "https://localhost:8080/"
        },
        "id": "YtcdSsTDVdyN",
        "outputId": "40c14c00-248b-4208-af41-24cc2ba1183f"
      },
      "execution_count": null,
      "outputs": [
        {
          "output_type": "stream",
          "name": "stdout",
          "text": [
            "Точность линейной регрессии:\n",
            "Cross val     :  [0.97085029 0.96997451 0.97048817 0.96876421]\n",
            "R2            :  0.969108381063458\n",
            "MAE           :  960.6165511265082\n",
            "MSE (RMSE)    :  2225187.403582424  ( 1491.7062055185077 )\n"
          ]
        }
      ]
    },
    {
      "cell_type": "code",
      "source": [
        "#conclusion\n",
        "sample_pred = reg.predict(sample_X)\n",
        "\n",
        "for i in range(5):\n",
        "  print('Case ', i+1)\n",
        "  print('Predicted price:')\n",
        "  print(sample_pred[i].round(2))\n",
        "  print('Real price:')\n",
        "  print(sample_y.iloc[i])\n",
        "  print()"
      ],
      "metadata": {
        "colab": {
          "base_uri": "https://localhost:8080/"
        },
        "id": "D8bREqgVWPLU",
        "outputId": "18384e6e-3de5-405a-beaf-d175208328a9"
      },
      "execution_count": null,
      "outputs": [
        {
          "output_type": "stream",
          "name": "stdout",
          "text": [
            "Case  1\n",
            "Predicted price:\n",
            "21577.85\n",
            "Real price:\n",
            "21500\n",
            "\n",
            "Case  2\n",
            "Predicted price:\n",
            "21885.58\n",
            "Real price:\n",
            "21500\n",
            "\n",
            "Case  3\n",
            "Predicted price:\n",
            "31883.27\n",
            "Real price:\n",
            "30000\n",
            "\n",
            "Case  4\n",
            "Predicted price:\n",
            "27446.81\n",
            "Real price:\n",
            "27750\n",
            "\n",
            "Case  5\n",
            "Predicted price:\n",
            "12724.77\n",
            "Real price:\n",
            "10900\n",
            "\n"
          ]
        }
      ]
    },
    {
      "cell_type": "markdown",
      "source": [
        "#Sklearn. Random Forest."
      ],
      "metadata": {
        "id": "fo__gNk_Wa7R"
      }
    },
    {
      "cell_type": "code",
      "source": [
        "from sklearn.ensemble import RandomForestRegressor"
      ],
      "metadata": {
        "id": "6J9_iPprWflc"
      },
      "execution_count": null,
      "outputs": []
    },
    {
      "cell_type": "markdown",
      "source": [
        "Training will take some time on an ensemble of 100 trees."
      ],
      "metadata": {
        "id": "ksvVLHlmGtTc"
      }
    },
    {
      "cell_type": "code",
      "source": [
        "rf = RandomForestRegressor(n_estimators = 100, random_state = 42)\n",
        "rf.fit(X_train, y_train) #fitting the model to the data\n",
        "rf_pre =rf.predict(X_test) #price forecast for X_test"
      ],
      "metadata": {
        "id": "_DCC2d4OFnGm"
      },
      "execution_count": null,
      "outputs": []
    },
    {
      "cell_type": "code",
      "source": [
        "print('Accuracy of random forest: ')\n",
        "crossr = cross_val_score(estimator = rf, X = X_train, y = y_train, cv = 4,verbose = 0)\n",
        "mser = mean_squared_error(y_test, rf_pre)\n",
        "rmser = mean_squared_error(y_test, rf_pre)**0.5\n",
        "maer = mean_absolute_error(y_test, rf_pre)\n",
        "r2r = r2_score(y_test, rf_pre)\n",
        "\n",
        "print('Cross val     : ', crossr)\n",
        "print('R2            : ', r2r)\n",
        "print('MAE           : ', maer)\n",
        "print('MSE (RMSE)    : ', mser, '(',rmser,')')\n"
      ],
      "metadata": {
        "colab": {
          "base_uri": "https://localhost:8080/"
        },
        "id": "RTI_GBhSHDCS",
        "outputId": "3704f9c1-c9a6-4c94-9c94-34619c2f624b"
      },
      "execution_count": null,
      "outputs": [
        {
          "output_type": "stream",
          "name": "stdout",
          "text": [
            "Точность случайного леса: \n",
            "Cross val     :  [0.97097615 0.97016357 0.97104519 0.96946687]\n",
            "R2            :  0.9694983901254134\n",
            "MAE           :  963.190507221173\n",
            "MSE (RMSE)    :  2197094.2416886124 ( 1482.2598428374872 )\n"
          ]
        }
      ]
    },
    {
      "cell_type": "code",
      "source": [
        "sample_pred = rf.predict(sample_X)\n",
        "\n",
        "for i in range(5):\n",
        "  print('Case ', i+1)\n",
        "  print('Predicted price:')\n",
        "  print(sample_pred[i].round(2))\n",
        "  print('Real price:')\n",
        "  print(sample_y.iloc[i])\n",
        "  print()"
      ],
      "metadata": {
        "colab": {
          "base_uri": "https://localhost:8080/"
        },
        "id": "OaGYA1U9O0Jx",
        "outputId": "634e9bc3-a8f4-4b5c-81ba-dc9e4bf59531"
      },
      "execution_count": null,
      "outputs": [
        {
          "output_type": "stream",
          "name": "stdout",
          "text": [
            "Case  1\n",
            "Predicted price:\n",
            "21228.0\n",
            "Real price:\n",
            "21500\n",
            "\n",
            "Case  2\n",
            "Predicted price:\n",
            "22669.5\n",
            "Real price:\n",
            "21500\n",
            "\n",
            "Case  3\n",
            "Predicted price:\n",
            "32095.0\n",
            "Real price:\n",
            "30000\n",
            "\n",
            "Case  4\n",
            "Predicted price:\n",
            "26742.5\n",
            "Real price:\n",
            "27750\n",
            "\n",
            "Case  5\n",
            "Predicted price:\n",
            "10248.0\n",
            "Real price:\n",
            "10900\n",
            "\n"
          ]
        }
      ]
    },
    {
      "cell_type": "markdown",
      "source": [
        "#Sklearn Result\n"
      ],
      "metadata": {
        "id": "x_xvp2NzTjSP"
      }
    },
    {
      "cell_type": "markdown",
      "source": [
        "Accuracy of Linear Regression"
      ],
      "metadata": {
        "id": "Ezo44QivToL_"
      }
    },
    {
      "cell_type": "markdown",
      "source": [
        "- Cross val     :  [0.97085029 0.96997451 0.97048817 0.96876421]\n",
        "- R2            :  0.969108381063458\n",
        "- MAE           :  960.6165511265082\n",
        "- MSE (RMSE)    :  2225187.403582424  ( 1491.7062055185077 )"
      ],
      "metadata": {
        "id": "3VK7hpIMT6zY"
      }
    },
    {
      "cell_type": "markdown",
      "source": [
        "Accuracy of Random Forest"
      ],
      "metadata": {
        "id": "a52W-vMPT3Wd"
      }
    },
    {
      "cell_type": "markdown",
      "source": [
        "- Cross val     :  [0.97097615 0.97016357 0.97104519 0.96946687]\n",
        "- R2            :  0.9694983901254134\n",
        "- MAE           :  963.190507221173\n",
        "- MSE (RMSE)    :  2197094.2416886124 ( 1482.2598428374872 )"
      ],
      "metadata": {
        "id": "Zr0CjpvCT7hU"
      }
    },
    {
      "cell_type": "markdown",
      "source": [
        "**Conclusion**"
      ],
      "metadata": {
        "id": "_hOtO2MEYaS9"
      }
    },
    {
      "cell_type": "markdown",
      "source": [
        "Good results were shown by the linear regression and random forest algorithms out of the two models considered. Despite the mean absolute error (MAE) being lower for linear regression, the slightly more significant overall quality indicator (R2) was found for the random forest. The best model is the random forest"
      ],
      "metadata": {
        "id": "vqevIKqSZ054"
      }
    }
  ],
  "metadata": {
    "colab": {
      "provenance": [],
      "authorship_tag": "ABX9TyNoVlk8bPKkDvvINVEoReZO"
    },
    "kernelspec": {
      "display_name": "Python 3",
      "name": "python3"
    },
    "language_info": {
      "name": "python"
    },
    "accelerator": "GPU",
    "gpuClass": "standard"
  },
  "nbformat": 4,
  "nbformat_minor": 0
}